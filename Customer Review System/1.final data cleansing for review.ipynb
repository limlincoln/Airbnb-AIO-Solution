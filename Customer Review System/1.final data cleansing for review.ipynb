{
 "cells": [
  {
   "cell_type": "code",
   "execution_count": 1,
   "id": "d2fee9a7",
   "metadata": {},
   "outputs": [],
   "source": [
    "# Basic Libraries\n",
    "import pandas as pd\n",
    "import matplotlib.pyplot as plt\n",
    "import seaborn as sns\n",
    "from wordcloud import WordCloud\n",
    "import pandas as pd\n",
    "import re"
   ]
  },
  {
   "cell_type": "code",
   "execution_count": 2,
   "id": "50bb4746",
   "metadata": {},
   "outputs": [],
   "source": [
    "##natural language processing\n",
    "import nltk\n",
    "from nltk.corpus import stopwords\n",
    "from nltk.stem import WordNetLemmatizer"
   ]
  },
  {
   "cell_type": "code",
   "execution_count": 3,
   "id": "b45e559c",
   "metadata": {},
   "outputs": [],
   "source": [
    "##for machine learning\n",
    "from sklearn.feature_extraction.text import CountVectorizer\n",
    "from sklearn.model_selection import GridSearchCV\n",
    "from sklearn.ensemble import RandomForestClassifier"
   ]
  },
  {
   "cell_type": "markdown",
   "id": "30f9a8f8",
   "metadata": {},
   "source": [
    "## 1. Importing Of Data"
   ]
  },
  {
   "cell_type": "code",
   "execution_count": 4,
   "id": "1a20ecdb",
   "metadata": {},
   "outputs": [
    {
     "data": {
      "text/plain": [
       "<bound method NDFrame.head of        listing_id            id        date  reviewer_id reviewer_name  \\\n",
       "0           50646  1.190986e+07   18/4/2014      1356099         James   \n",
       "1           50646  1.382395e+07    5/6/2014     15222393         Welli   \n",
       "2           50646  1.511722e+07    2/7/2014      5543172         Cyril   \n",
       "3           50646  1.542646e+07    8/7/2014       817532          Jake   \n",
       "4           50646  1.555291e+07   11/7/2014     10942382         Subba   \n",
       "...           ...           ...         ...          ...           ...   \n",
       "43234    53388036  5.200000e+17  18/12/2021    304470840           Lai   \n",
       "43235    53408171  5.210000e+17  19/12/2021    433426203        Prerna   \n",
       "43236    53614218  5.190000e+17  17/12/2021    107628510        Fellix   \n",
       "43237    53679344  5.160000e+17  13/12/2021    340715577     Mark Roan   \n",
       "43238    53717759  5.140000e+17  10/12/2021    192227309       Zhengyi   \n",
       "\n",
       "                                                comments  \n",
       "0      A comfortable room in a smart condo developmen...  \n",
       "1      Stayed over at Sujatha's house for 3 good nigh...  \n",
       "2      It's been a lovely stay at Sujatha's. The room...  \n",
       "3      We had a great experience. A nice place, an am...  \n",
       "4       Quiet condo. Comfortable stay and good location.  \n",
       "...                                                  ...  \n",
       "43234  Wei is an amazing host! Quick response from We...  \n",
       "43235               Easy to work with and good apartment  \n",
       "43236  Thank you Lucas and Sandy for having me! Sandy...  \n",
       "43237  Great host and amazing experience. Got the one...  \n",
       "43238  Very good location. However, no amenities like...  \n",
       "\n",
       "[43239 rows x 6 columns]>"
      ]
     },
     "execution_count": 4,
     "metadata": {},
     "output_type": "execute_result"
    }
   ],
   "source": [
    "##cleansing review.csv using the cleansed id from WordData  43239 rows \n",
    "reviewData= pd.read_csv('6.reviews.csv')\n",
    "reviewData.head"
   ]
  },
  {
   "cell_type": "markdown",
   "id": "56e3667c",
   "metadata": {},
   "source": [
    "## 1. Data cleansing (remove unstructure Data)"
   ]
  },
  {
   "cell_type": "code",
   "execution_count": 5,
   "id": "cd7f8f5f",
   "metadata": {},
   "outputs": [],
   "source": [
    "##function to remove unicode\n",
    "reviewData['comments']=reviewData['comments'].str.replace('[^\\x00-\\x7F]','',regex=True)\n",
    "#function to remove html tags\n",
    "reviewData['comments']=reviewData['comments'].str.replace(r'<[^<>]*>', '', regex=True)\n",
    "##function to remove punctuation\n",
    "reviewData['comments']=reviewData['comments'] .str.replace('[^\\w\\s]','',regex=True)\n",
    "##function to remove word and digit containing digits \n",
    "#remove words and digit\n",
    "reviewData['comments']=reviewData['comments'] .str.replace(\"\\S*\\d\\S*\",'',regex=True)\n",
    "##remove digit in strings\n",
    "reviewData['comments']=reviewData['comments'] .str.replace('\\d+','',regex=True)\n"
   ]
  },
  {
   "cell_type": "code",
   "execution_count": 6,
   "id": "54cf55d8",
   "metadata": {
    "scrolled": true
   },
   "outputs": [],
   "source": [
    "from langdetect import detect\n",
    "import pandas as pd\n",
    "def detect_en(text):\n",
    "    try:\n",
    "        return detect(text) != 'en'\n",
    "    except:\n",
    "        return False\n",
    "    \n",
    "df = reviewData[reviewData['comments'].apply(detect_en)]"
   ]
  },
  {
   "cell_type": "code",
   "execution_count": 7,
   "id": "6d1f9f58",
   "metadata": {},
   "outputs": [
    {
     "data": {
      "text/plain": [
       "<bound method NDFrame.head of        listing_id            id        date  reviewer_id reviewer_name  \\\n",
       "0           50646  1.190986e+07   18/4/2014      1356099         James   \n",
       "1           50646  1.382395e+07    5/6/2014     15222393         Welli   \n",
       "2           50646  1.511722e+07    2/7/2014      5543172         Cyril   \n",
       "3           50646  1.542646e+07    8/7/2014       817532          Jake   \n",
       "4           50646  1.555291e+07   11/7/2014     10942382         Subba   \n",
       "...           ...           ...         ...          ...           ...   \n",
       "43234    53388036  5.200000e+17  18/12/2021    304470840           Lai   \n",
       "43235    53408171  5.210000e+17  19/12/2021    433426203        Prerna   \n",
       "43236    53614218  5.190000e+17  17/12/2021    107628510        Fellix   \n",
       "43237    53679344  5.160000e+17  13/12/2021    340715577     Mark Roan   \n",
       "43238    53717759  5.140000e+17  10/12/2021    192227309       Zhengyi   \n",
       "\n",
       "                                                comments  \n",
       "0      A comfortable room in a smart condo developmen...  \n",
       "1      Stayed over at Sujathas house for  good nights...  \n",
       "2      Its been a lovely stay at Sujathas The room is...  \n",
       "3      We had a great experience A nice place an amaz...  \n",
       "4         Quiet condo Comfortable stay and good location  \n",
       "...                                                  ...  \n",
       "43234  Wei is an amazing host Quick response from Wei...  \n",
       "43235               Easy to work with and good apartment  \n",
       "43236  Thank you Lucas and Sandy for having me Sandy ...  \n",
       "43237  Great host and amazing experience Got the one ...  \n",
       "43238  Very good location However no amenities like b...  \n",
       "\n",
       "[43239 rows x 6 columns]>"
      ]
     },
     "execution_count": 7,
     "metadata": {},
     "output_type": "execute_result"
    }
   ],
   "source": [
    "reviewData.head  "
   ]
  },
  {
   "cell_type": "code",
   "execution_count": 8,
   "id": "33921efc",
   "metadata": {},
   "outputs": [
    {
     "data": {
      "text/plain": [
       "<bound method NDFrame.head of        listing_id            id        date  reviewer_id reviewer_name  \\\n",
       "16          50646  2.127953e+07  14/10/2014     18046573          Cora   \n",
       "28          71609  2.901530e+08   14/7/2018    171231300           Tee   \n",
       "100         71903  5.265223e+08    9/9/2019     94605343     Widyawati   \n",
       "101         71903  5.320366e+08   19/9/2019    286552771        Carmen   \n",
       "135        275344  2.356785e+07   5/12/2014      6176057         Felix   \n",
       "...           ...           ...         ...          ...           ...   \n",
       "43169    51257283  4.920000e+17  10/11/2021    343799760  Dinie Danial   \n",
       "43174    51475066  4.850000e+17  31/10/2021    425311856           Law   \n",
       "43179    51476593  5.190000e+17  17/12/2021    429539623         Elvis   \n",
       "43192    51863280  4.920000e+17  10/11/2021    112152393             B   \n",
       "43195    51880948  4.650000e+17   4/10/2021    351523632        Alicia   \n",
       "\n",
       "                                                comments  \n",
       "16     Wir hatten ein paar tolle Tage bei Sujatha Sie...  \n",
       "28                                               not bad  \n",
       "100                                         no hot water  \n",
       "101                                            nice stay  \n",
       "135    Ich war  Wochen lang bei Familie Woon untergek...  \n",
       "...                                                  ...  \n",
       "43169                                          splendid   \n",
       "43174                                         good place  \n",
       "43179                                               nice  \n",
       "43192                                               Good  \n",
       "43195                                               good  \n",
       "\n",
       "[3538 rows x 6 columns]>"
      ]
     },
     "execution_count": 8,
     "metadata": {},
     "output_type": "execute_result"
    }
   ],
   "source": [
    "df.head"
   ]
  },
  {
   "cell_type": "markdown",
   "id": "5ead6ce7",
   "metadata": {},
   "source": [
    "## 1. Data cleansing (partitioning of data for translation using API)"
   ]
  },
  {
   "cell_type": "code",
   "execution_count": 9,
   "id": "cb7d0fa0",
   "metadata": {},
   "outputs": [],
   "source": [
    "##translating/partition the dataframe to english using deep translate (800 row each part due to 5k char limit) (estimated)\n",
    "df1 = df.iloc[:800]\n",
    "df2 = df.iloc[800:1600]\n",
    "df3 = df.iloc[1600:2400]\n",
    "df4 = df.iloc[2400:3200]\n",
    "df5 = df.iloc[3200:]"
   ]
  },
  {
   "cell_type": "code",
   "execution_count": 10,
   "id": "3c1d073f",
   "metadata": {},
   "outputs": [
    {
     "name": "stderr",
     "output_type": "stream",
     "text": [
      "C:\\Users\\liang\\AppData\\Local\\Temp/ipykernel_16408/4273387571.py:6: SettingWithCopyWarning: \n",
      "A value is trying to be set on a copy of a slice from a DataFrame.\n",
      "Try using .loc[row_indexer,col_indexer] = value instead\n",
      "\n",
      "See the caveats in the documentation: https://pandas.pydata.org/pandas-docs/stable/user_guide/indexing.html#returning-a-view-versus-a-copy\n",
      "  df1['comments']=df1['comments'].apply(gt.translate)\n",
      "C:\\Users\\liang\\AppData\\Local\\Temp/ipykernel_16408/4273387571.py:7: SettingWithCopyWarning: \n",
      "A value is trying to be set on a copy of a slice from a DataFrame.\n",
      "Try using .loc[row_indexer,col_indexer] = value instead\n",
      "\n",
      "See the caveats in the documentation: https://pandas.pydata.org/pandas-docs/stable/user_guide/indexing.html#returning-a-view-versus-a-copy\n",
      "  df2['comments']=df2['comments'].apply(gt.translate)\n",
      "C:\\Users\\liang\\AppData\\Local\\Temp/ipykernel_16408/4273387571.py:8: SettingWithCopyWarning: \n",
      "A value is trying to be set on a copy of a slice from a DataFrame.\n",
      "Try using .loc[row_indexer,col_indexer] = value instead\n",
      "\n",
      "See the caveats in the documentation: https://pandas.pydata.org/pandas-docs/stable/user_guide/indexing.html#returning-a-view-versus-a-copy\n",
      "  df3['comments']=df3['comments'].apply(gt.translate)\n",
      "C:\\Users\\liang\\AppData\\Local\\Temp/ipykernel_16408/4273387571.py:9: SettingWithCopyWarning: \n",
      "A value is trying to be set on a copy of a slice from a DataFrame.\n",
      "Try using .loc[row_indexer,col_indexer] = value instead\n",
      "\n",
      "See the caveats in the documentation: https://pandas.pydata.org/pandas-docs/stable/user_guide/indexing.html#returning-a-view-versus-a-copy\n",
      "  df4['comments']=df4['comments'].apply(gt.translate)\n",
      "C:\\Users\\liang\\AppData\\Local\\Temp/ipykernel_16408/4273387571.py:10: SettingWithCopyWarning: \n",
      "A value is trying to be set on a copy of a slice from a DataFrame.\n",
      "Try using .loc[row_indexer,col_indexer] = value instead\n",
      "\n",
      "See the caveats in the documentation: https://pandas.pydata.org/pandas-docs/stable/user_guide/indexing.html#returning-a-view-versus-a-copy\n",
      "  df5['comments']=df5['comments'].apply(gt.translate)\n"
     ]
    }
   ],
   "source": [
    "##we observe the negative comment have some foregin language\n",
    "##transalation 5k threshhold only gonna traanslate negative frame using deep translator\n",
    "import pandas as pd\n",
    "from deep_translator import GoogleTranslator\n",
    "gt = GoogleTranslator(source='auto', dest='en')\n",
    "df1['comments']=df1['comments'].apply(gt.translate)\n",
    "df2['comments']=df2['comments'].apply(gt.translate)\n",
    "df3['comments']=df3['comments'].apply(gt.translate)\n",
    "df4['comments']=df4['comments'].apply(gt.translate)\n",
    "df5['comments']=df5['comments'].apply(gt.translate)"
   ]
  },
  {
   "cell_type": "code",
   "execution_count": 11,
   "id": "91be5792",
   "metadata": {},
   "outputs": [
    {
     "data": {
      "text/plain": [
       "<bound method NDFrame.head of        listing_id           id        date  reviewer_id reviewer_name  \\\n",
       "16          50646   21279532.0  14/10/2014     18046573          Cora   \n",
       "28          71609  290153045.0   14/7/2018    171231300           Tee   \n",
       "100         71903  526522333.0    9/9/2019     94605343     Widyawati   \n",
       "101         71903  532036580.0   19/9/2019    286552771        Carmen   \n",
       "135        275344   23567853.0   5/12/2014      6176057         Felix   \n",
       "...           ...          ...         ...          ...           ...   \n",
       "10462     6958476  255592314.0   21/4/2018     40670596          Eddy   \n",
       "10466     6958476  451058596.0   11/5/2019     13427554       Rolande   \n",
       "10491     6983613  129747604.0    1/2/2017    110771657            Da   \n",
       "10498     6983613  215650788.0   1/12/2017    156708863       Michael   \n",
       "10544     6993627  146201583.0   22/4/2017     36987383           Sam   \n",
       "\n",
       "                                                comments  \n",
       "16     We had a great few days with Sujatha. She is a...  \n",
       "28                                               not bad  \n",
       "100                                         no hot water  \n",
       "101                                            nice stay  \n",
       "135    I stayed with the Woon family for weeks and ha...  \n",
       "...                                                  ...  \n",
       "10462  Only happiness Studio located in a magnificent...  \n",
       "10466  We had a great stay at Alex's The description ...  \n",
       "10491                                          very nice  \n",
       "10498  Really cozy place with good service Good price...  \n",
       "10544                                       As described  \n",
       "\n",
       "[800 rows x 6 columns]>"
      ]
     },
     "execution_count": 11,
     "metadata": {},
     "output_type": "execute_result"
    }
   ],
   "source": [
    "df1.head"
   ]
  },
  {
   "cell_type": "code",
   "execution_count": 12,
   "id": "1edac23a",
   "metadata": {},
   "outputs": [
    {
     "data": {
      "text/plain": [
       "<bound method NDFrame.head of        listing_id           id        date  reviewer_id reviewer_name  \\\n",
       "10552     6993627  164634273.0   28/6/2017     77858519            은비   \n",
       "10561     6993627  206747156.0  27/10/2017     53129040         Thant   \n",
       "10566     6993627  217355670.0   9/12/2017     45773112         David   \n",
       "10582     6993627  283436705.0   30/6/2018    185285243       Theresa   \n",
       "10585     6993627  296029020.0   25/7/2018    199598970            륜기   \n",
       "...           ...          ...         ...          ...           ...   \n",
       "20777    14682068  171579778.0   18/7/2017    106218635            경민   \n",
       "20780    14682068  211739591.0  14/11/2017     60617654           Joo   \n",
       "20782    14682068  245128334.0   21/3/2018     22500586       Letizia   \n",
       "20837    14718255  198294963.0   29/9/2017    138539698         Shaun   \n",
       "20852    14719882  120820940.0  11/12/2016    106675132            嘉禄   \n",
       "\n",
       "                                                comments  \n",
       "10552                                            MRT MRT  \n",
       "10561                                         Nice place  \n",
       "10566         Fantastic value for Singapore  Great value  \n",
       "10582  The apartment was very clean and large there w...  \n",
       "10585                                                  D  \n",
       "...                                                  ...  \n",
       "20777                                            Mar Mar  \n",
       "20780                               MRT Hidden by Airbnb  \n",
       "20782  The apartment was spacious clean the sheets we...  \n",
       "20837                                           All good  \n",
       "20852                                               nice  \n",
       "\n",
       "[800 rows x 6 columns]>"
      ]
     },
     "execution_count": 12,
     "metadata": {},
     "output_type": "execute_result"
    }
   ],
   "source": [
    "df2.head"
   ]
  },
  {
   "cell_type": "code",
   "execution_count": 13,
   "id": "3102eb0e",
   "metadata": {},
   "outputs": [
    {
     "data": {
      "text/plain": [
       "<bound method NDFrame.head of        listing_id           id       date  reviewer_id reviewer_name  \\\n",
       "20867    14740975  132119238.0  15/2/2017     26842946        Thomas   \n",
       "20888    14740975  244906200.0  20/3/2018      3851942        Nadège   \n",
       "20906    14740975  409145590.0   7/2/2019    202224675        Chieko   \n",
       "20930    14790116  141038772.0   1/4/2017    121818204        Tzu Yi   \n",
       "20942    14790116  171855581.0  19/7/2017     42484670          Suki   \n",
       "...           ...          ...        ...          ...           ...   \n",
       "30835    24660198  402627822.0  19/1/2019     33893738          Long   \n",
       "30843    24660198  587978105.0   3/1/2020     59552852       Sanghee   \n",
       "30853    24664051  292795758.0  19/7/2018     12309521        Selina   \n",
       "30891    24664051  419458013.0   4/3/2019    237756810     Jean-Yves   \n",
       "30915    24664051  499145480.0  31/7/2019    251606857           Lea   \n",
       "\n",
       "                                                comments  \n",
       "20867  The accommodation is very well located in chin...  \n",
       "20888  Clean apartment housekeeping every three days ...  \n",
       "20906                                          Recommend  \n",
       "20930                                              Tooth  \n",
       "20942                                       GiginiceGigi  \n",
       "...                                                  ...  \n",
       "30835                                          As listed  \n",
       "30843                                               Good  \n",
       "30853  The apartment is in a pleasant neighborhood ab...  \n",
       "30891  A location in a beautiful preserved area typic...  \n",
       "30915  We were well received by Nympa and also had th...  \n",
       "\n",
       "[800 rows x 6 columns]>"
      ]
     },
     "execution_count": 13,
     "metadata": {},
     "output_type": "execute_result"
    }
   ],
   "source": [
    "df3.head"
   ]
  },
  {
   "cell_type": "code",
   "execution_count": 14,
   "id": "4701b295",
   "metadata": {},
   "outputs": [
    {
     "data": {
      "text/plain": [
       "<bound method NDFrame.head of        listing_id           id        date  reviewer_id reviewer_name  \\\n",
       "30935    24664051  574231427.0   8/12/2019     17864125         Oscar   \n",
       "30944    24664051  594200911.0   18/1/2020     25103250       Valerie   \n",
       "30946    24664051  597647334.0   26/1/2020    156892115        Jiaxin   \n",
       "30958    24664051  644922776.0    1/8/2020    348240590   Keong  Meng   \n",
       "30970    24664051  717795967.0  24/12/2020    372037564        Thomas   \n",
       "...           ...          ...         ...          ...           ...   \n",
       "40955    42078904  633926611.0    2/7/2020    344037308      Rominico   \n",
       "40959    42078904  634427301.0    4/7/2020     31108545      Hock Lye   \n",
       "40964    42078904  635305237.0    6/7/2020    342380962           Nur   \n",
       "40976    42078904  638855148.0   17/7/2020    177433613          Riya   \n",
       "40977    42078904  639236502.0   18/7/2020    213127984          Htoo   \n",
       "\n",
       "                                      comments  \n",
       "30935                               no worries  \n",
       "30944  Perfect location for visiting Singapore  \n",
       "30946                         Great experience  \n",
       "30958                                Excellent  \n",
       "30970                       Excellent location  \n",
       "...                                        ...  \n",
       "40955                                   Timing  \n",
       "40959                                     Good  \n",
       "40964                                    Bestt  \n",
       "40976                                Good stay  \n",
       "40977                               Nice place  \n",
       "\n",
       "[800 rows x 6 columns]>"
      ]
     },
     "execution_count": 14,
     "metadata": {},
     "output_type": "execute_result"
    }
   ],
   "source": [
    "df4.head"
   ]
  },
  {
   "cell_type": "code",
   "execution_count": 15,
   "id": "a3e91289",
   "metadata": {},
   "outputs": [
    {
     "data": {
      "text/plain": [
       "<bound method NDFrame.head of        listing_id            id        date  reviewer_id reviewer_name  \\\n",
       "40994    42078904  6.454611e+08    2/8/2020    357142793     Yogeswari   \n",
       "40997    42078904  6.461359e+08    3/8/2020    144076255         Nicky   \n",
       "41000    42078904  6.471405e+08    6/8/2020    350742662         Brian   \n",
       "41001    42078904  6.474861e+08    7/8/2020    178345731       Maryati   \n",
       "41003    42078904  6.479291e+08    8/8/2020    348495457             M   \n",
       "...           ...           ...         ...          ...           ...   \n",
       "43169    51257283  4.920000e+17  10/11/2021    343799760  Dinie Danial   \n",
       "43174    51475066  4.850000e+17  31/10/2021    425311856           Law   \n",
       "43179    51476593  5.190000e+17  17/12/2021    429539623         Elvis   \n",
       "43192    51863280  4.920000e+17  10/11/2021    112152393             B   \n",
       "43195    51880948  4.650000e+17   4/10/2021    351523632        Alicia   \n",
       "\n",
       "                comments  \n",
       "40994                Nil  \n",
       "40997  room is very good  \n",
       "41000         Nice place  \n",
       "41001    very nice place  \n",
       "41003         Nice place  \n",
       "...                  ...  \n",
       "43169           splendid  \n",
       "43174         good place  \n",
       "43179               nice  \n",
       "43192               Good  \n",
       "43195               good  \n",
       "\n",
       "[338 rows x 6 columns]>"
      ]
     },
     "execution_count": 15,
     "metadata": {},
     "output_type": "execute_result"
    }
   ],
   "source": [
    "df5.head"
   ]
  },
  {
   "cell_type": "markdown",
   "id": "150661aa",
   "metadata": {},
   "source": [
    "## 1. Data cleansing (Update Translated Comment Row)"
   ]
  },
  {
   "cell_type": "code",
   "execution_count": 16,
   "id": "ffac5951",
   "metadata": {},
   "outputs": [],
   "source": [
    "##update the dataframe back to the ReviewData\n",
    "reviewData.update(df1)\n",
    "reviewData.update(df2)\n",
    "reviewData.update(df3)\n",
    "reviewData.update(df4)\n",
    "reviewData.update(df5)"
   ]
  },
  {
   "cell_type": "code",
   "execution_count": 17,
   "id": "2ec75267",
   "metadata": {},
   "outputs": [
    {
     "data": {
      "text/plain": [
       "<bound method NDFrame.head of        listing_id            id        date  reviewer_id reviewer_name  \\\n",
       "0         50646.0  1.190986e+07   18/4/2014    1356099.0         James   \n",
       "1         50646.0  1.382395e+07    5/6/2014   15222393.0         Welli   \n",
       "2         50646.0  1.511722e+07    2/7/2014    5543172.0         Cyril   \n",
       "3         50646.0  1.542646e+07    8/7/2014     817532.0          Jake   \n",
       "4         50646.0  1.555291e+07   11/7/2014   10942382.0         Subba   \n",
       "...           ...           ...         ...          ...           ...   \n",
       "43234  53388036.0  5.200000e+17  18/12/2021  304470840.0           Lai   \n",
       "43235  53408171.0  5.210000e+17  19/12/2021  433426203.0        Prerna   \n",
       "43236  53614218.0  5.190000e+17  17/12/2021  107628510.0        Fellix   \n",
       "43237  53679344.0  5.160000e+17  13/12/2021  340715577.0     Mark Roan   \n",
       "43238  53717759.0  5.140000e+17  10/12/2021  192227309.0       Zhengyi   \n",
       "\n",
       "                                                comments  \n",
       "0      A comfortable room in a smart condo developmen...  \n",
       "1      Stayed over at Sujathas house for  good nights...  \n",
       "2      Its been a lovely stay at Sujathas The room is...  \n",
       "3      We had a great experience A nice place an amaz...  \n",
       "4         Quiet condo Comfortable stay and good location  \n",
       "...                                                  ...  \n",
       "43234  Wei is an amazing host Quick response from Wei...  \n",
       "43235               Easy to work with and good apartment  \n",
       "43236  Thank you Lucas and Sandy for having me Sandy ...  \n",
       "43237  Great host and amazing experience Got the one ...  \n",
       "43238  Very good location However no amenities like b...  \n",
       "\n",
       "[43239 rows x 6 columns]>"
      ]
     },
     "execution_count": 17,
     "metadata": {},
     "output_type": "execute_result"
    }
   ],
   "source": [
    "reviewData.head"
   ]
  },
  {
   "cell_type": "markdown",
   "id": "df5429a6",
   "metadata": {},
   "source": [
    "## 1. Data cleansing (Remove Stopword, tokenization,stemming,lemmatizing)"
   ]
  },
  {
   "cell_type": "code",
   "execution_count": 18,
   "id": "3a234703",
   "metadata": {},
   "outputs": [],
   "source": [
    "##removing stop words\n",
    "# Import stopwords with nltk.\n",
    "from nltk.corpus import stopwords\n",
    "stop = stopwords.words('english')\n",
    "pat = r'\\b(?:{})\\b'.format('|'.join(stop),regex=True)\n",
    "reviewData['comments_nostop']= reviewData['comments'].str.replace(pat, '',regex=True)\n",
    "reviewData['comments_nostop']=reviewData['comments_nostop'].str.replace(r'\\s+', ' ',regex=True)"
   ]
  },
  {
   "cell_type": "code",
   "execution_count": 19,
   "id": "c30094c7",
   "metadata": {},
   "outputs": [],
   "source": [
    "##function to token data \n",
    "##function to token data \n",
    "import pandas as pd\n",
    "import nltk\n",
    "reviewData['comments_nostop'] = reviewData['comments_nostop'].apply(str)\n",
    "reviewData['comments_tokenized'] = reviewData.apply(lambda row: nltk.word_tokenize(row['comments_nostop']), axis=1)\n",
    "\n",
    "#stemming\n",
    "import pandas as pd\n",
    "from nltk.stem.snowball import SnowballStemmer\n",
    "stemmer = SnowballStemmer(\"english\")\n",
    "reviewData['stemmed'] =reviewData['comments_tokenized'].apply(lambda x: [stemmer.stem(y) for y in x]) \n",
    "\n",
    "\n",
    "##lemmatizing\n",
    "import nltk\n",
    "w_tokenizer = nltk.tokenize.WhitespaceTokenizer()\n",
    "lemmatizer = nltk.stem.WordNetLemmatizer()\n",
    "def lemmatize_text(text):\n",
    "    return [lemmatizer.lemmatize(w) for w in w_tokenizer.tokenize(text)]\n",
    "reviewData['lemmatized'] =reviewData['comments_nostop'].apply(lemmatize_text)\n"
   ]
  },
  {
   "cell_type": "code",
   "execution_count": 20,
   "id": "4fc09043",
   "metadata": {},
   "outputs": [],
   "source": [
    "##ensuring everything is cap\n",
    "reviewData['comments'] = reviewData['comments'].apply(str)\n",
    "reviewData['comments'] = reviewData['comments'].str.upper()\n",
    "reviewData['lemmatized']  = reviewData['lemmatized'] .apply(str)\n",
    "reviewData['lemmatized'] = reviewData['lemmatized'] .str.upper()\n",
    "reviewData['stemmed']  = reviewData['stemmed'] .apply(str)\n",
    "reviewData['stemmed'] = reviewData['stemmed'] .str.upper()\n",
    "reviewData['comments_tokenized']  = reviewData['comments_tokenized'] .apply(str)\n",
    "reviewData['comments_tokenized'] = reviewData['comments_tokenized'] .str.upper()\n",
    "reviewData['comments_nostop']  = reviewData['comments_nostop'] .apply(str)\n",
    "reviewData['comments_nostop'] = reviewData['comments_nostop'] .str.upper()"
   ]
  },
  {
   "cell_type": "code",
   "execution_count": 21,
   "id": "978063fe",
   "metadata": {},
   "outputs": [
    {
     "data": {
      "text/plain": [
       "<bound method NDFrame.head of        listing_id            id        date  reviewer_id reviewer_name  \\\n",
       "0         50646.0  1.190986e+07   18/4/2014    1356099.0         James   \n",
       "1         50646.0  1.382395e+07    5/6/2014   15222393.0         Welli   \n",
       "2         50646.0  1.511722e+07    2/7/2014    5543172.0         Cyril   \n",
       "3         50646.0  1.542646e+07    8/7/2014     817532.0          Jake   \n",
       "4         50646.0  1.555291e+07   11/7/2014   10942382.0         Subba   \n",
       "...           ...           ...         ...          ...           ...   \n",
       "43234  53388036.0  5.200000e+17  18/12/2021  304470840.0           Lai   \n",
       "43235  53408171.0  5.210000e+17  19/12/2021  433426203.0        Prerna   \n",
       "43236  53614218.0  5.190000e+17  17/12/2021  107628510.0        Fellix   \n",
       "43237  53679344.0  5.160000e+17  13/12/2021  340715577.0     Mark Roan   \n",
       "43238  53717759.0  5.140000e+17  10/12/2021  192227309.0       Zhengyi   \n",
       "\n",
       "                                                comments  \\\n",
       "0      A COMFORTABLE ROOM IN A SMART CONDO DEVELOPMEN...   \n",
       "1      STAYED OVER AT SUJATHAS HOUSE FOR  GOOD NIGHTS...   \n",
       "2      ITS BEEN A LOVELY STAY AT SUJATHAS THE ROOM IS...   \n",
       "3      WE HAD A GREAT EXPERIENCE A NICE PLACE AN AMAZ...   \n",
       "4         QUIET CONDO COMFORTABLE STAY AND GOOD LOCATION   \n",
       "...                                                  ...   \n",
       "43234  WEI IS AN AMAZING HOST QUICK RESPONSE FROM WEI...   \n",
       "43235               EASY TO WORK WITH AND GOOD APARTMENT   \n",
       "43236  THANK YOU LUCAS AND SANDY FOR HAVING ME SANDY ...   \n",
       "43237  GREAT HOST AND AMAZING EXPERIENCE GOT THE ONE ...   \n",
       "43238  VERY GOOD LOCATION HOWEVER NO AMENITIES LIKE B...   \n",
       "\n",
       "                                         comments_nostop  \\\n",
       "0      A COMFORTABLE ROOM SMART CONDO DEVELOPMENT EVE...   \n",
       "1      STAYED SUJATHAS HOUSE GOOD NIGHTS BOYFRIEND SU...   \n",
       "2      ITS LOVELY STAY SUJATHAS THE ROOM CLEAN LOCATI...   \n",
       "3      WE GREAT EXPERIENCE A NICE PLACE AMAZING COMPL...   \n",
       "4             QUIET CONDO COMFORTABLE STAY GOOD LOCATION   \n",
       "...                                                  ...   \n",
       "43234       WEI AMAZING HOST QUICK RESPONSE WEI HELPFUL    \n",
       "43235                           EASY WORK GOOD APARTMENT   \n",
       "43236  THANK LUCAS SANDY SANDY FRIENDLY HELPING QUEST...   \n",
       "43237  GREAT HOST AMAZING EXPERIENCE GOT ONE BEST DEA...   \n",
       "43238  VERY GOOD LOCATION HOWEVER AMENITIES LIKE BASI...   \n",
       "\n",
       "                                      comments_tokenized  \\\n",
       "0      ['A', 'COMFORTABLE', 'ROOM', 'SMART', 'CONDO',...   \n",
       "1      ['STAYED', 'SUJATHAS', 'HOUSE', 'GOOD', 'NIGHT...   \n",
       "2      ['ITS', 'LOVELY', 'STAY', 'SUJATHAS', 'THE', '...   \n",
       "3      ['WE', 'GREAT', 'EXPERIENCE', 'A', 'NICE', 'PL...   \n",
       "4      ['QUIET', 'CONDO', 'COMFORTABLE', 'STAY', 'GOO...   \n",
       "...                                                  ...   \n",
       "43234  ['WEI', 'AMAZING', 'HOST', 'QUICK', 'RESPONSE'...   \n",
       "43235              ['EASY', 'WORK', 'GOOD', 'APARTMENT']   \n",
       "43236  ['THANK', 'LUCAS', 'SANDY', 'SANDY', 'FRIENDLY...   \n",
       "43237  ['GREAT', 'HOST', 'AMAZING', 'EXPERIENCE', 'GO...   \n",
       "43238  ['VERY', 'GOOD', 'LOCATION', 'HOWEVER', 'AMENI...   \n",
       "\n",
       "                                                 stemmed  \\\n",
       "0      ['A', 'COMFORT', 'ROOM', 'SMART', 'CONDO', 'DE...   \n",
       "1      ['STAY', 'SUJATHA', 'HOUS', 'GOOD', 'NIGHT', '...   \n",
       "2      ['IT', 'LOVE', 'STAY', 'SUJATHA', 'THE', 'ROOM...   \n",
       "3      ['WE', 'GREAT', 'EXPERI', 'A', 'NICE', 'PLACE'...   \n",
       "4      ['QUIET', 'CONDO', 'COMFORT', 'STAY', 'GOOD', ...   \n",
       "...                                                  ...   \n",
       "43234  ['WEI', 'AMAZ', 'HOST', 'QUICK', 'RESPONS', 'W...   \n",
       "43235                  ['EASI', 'WORK', 'GOOD', 'APART']   \n",
       "43236  ['THANK', 'LUCA', 'SANDI', 'SANDI', 'FRIEND', ...   \n",
       "43237  ['GREAT', 'HOST', 'AMAZ', 'EXPERI', 'GOT', 'ON...   \n",
       "43238  ['VERI', 'GOOD', 'LOCAT', 'HOWEV', 'AMEN', 'LI...   \n",
       "\n",
       "                                              lemmatized  \n",
       "0      ['A', 'COMFORTABLE', 'ROOM', 'SMART', 'CONDO',...  \n",
       "1      ['STAYED', 'SUJATHAS', 'HOUSE', 'GOOD', 'NIGHT...  \n",
       "2      ['ITS', 'LOVELY', 'STAY', 'SUJATHAS', 'THE', '...  \n",
       "3      ['WE', 'GREAT', 'EXPERIENCE', 'A', 'NICE', 'PL...  \n",
       "4      ['QUIET', 'CONDO', 'COMFORTABLE', 'STAY', 'GOO...  \n",
       "...                                                  ...  \n",
       "43234  ['WEI', 'AMAZING', 'HOST', 'QUICK', 'RESPONSE'...  \n",
       "43235              ['EASY', 'WORK', 'GOOD', 'APARTMENT']  \n",
       "43236  ['THANK', 'LUCAS', 'SANDY', 'SANDY', 'FRIENDLY...  \n",
       "43237  ['GREAT', 'HOST', 'AMAZING', 'EXPERIENCE', 'GO...  \n",
       "43238  ['VERY', 'GOOD', 'LOCATION', 'HOWEVER', 'AMENI...  \n",
       "\n",
       "[43239 rows x 10 columns]>"
      ]
     },
     "execution_count": 21,
     "metadata": {},
     "output_type": "execute_result"
    }
   ],
   "source": [
    "reviewData.head"
   ]
  },
  {
   "cell_type": "markdown",
   "id": "126c4716",
   "metadata": {},
   "source": [
    "## 1. Data cleansing (Using Vader to tag comments instead of human tagging)"
   ]
  },
  {
   "cell_type": "code",
   "execution_count": 22,
   "id": "37d5b04e",
   "metadata": {},
   "outputs": [
    {
     "name": "stderr",
     "output_type": "stream",
     "text": [
      "[nltk_data] Downloading package names to\n",
      "[nltk_data]     C:\\Users\\liang\\AppData\\Roaming\\nltk_data...\n",
      "[nltk_data]   Package names is already up-to-date!\n",
      "[nltk_data] Downloading package stopwords to\n",
      "[nltk_data]     C:\\Users\\liang\\AppData\\Roaming\\nltk_data...\n",
      "[nltk_data]   Package stopwords is already up-to-date!\n",
      "[nltk_data] Downloading package state_union to\n",
      "[nltk_data]     C:\\Users\\liang\\AppData\\Roaming\\nltk_data...\n",
      "[nltk_data]   Package state_union is already up-to-date!\n",
      "[nltk_data] Downloading package twitter_samples to\n",
      "[nltk_data]     C:\\Users\\liang\\AppData\\Roaming\\nltk_data...\n",
      "[nltk_data]   Package twitter_samples is already up-to-date!\n",
      "[nltk_data] Downloading package movie_reviews to\n",
      "[nltk_data]     C:\\Users\\liang\\AppData\\Roaming\\nltk_data...\n",
      "[nltk_data]   Package movie_reviews is already up-to-date!\n",
      "[nltk_data] Downloading package averaged_perceptron_tagger to\n",
      "[nltk_data]     C:\\Users\\liang\\AppData\\Roaming\\nltk_data...\n",
      "[nltk_data]   Package averaged_perceptron_tagger is already up-to-\n",
      "[nltk_data]       date!\n",
      "[nltk_data] Downloading package vader_lexicon to\n",
      "[nltk_data]     C:\\Users\\liang\\AppData\\Roaming\\nltk_data...\n",
      "[nltk_data]   Package vader_lexicon is already up-to-date!\n",
      "[nltk_data] Downloading package punkt to\n",
      "[nltk_data]     C:\\Users\\liang\\AppData\\Roaming\\nltk_data...\n",
      "[nltk_data]   Package punkt is already up-to-date!\n"
     ]
    }
   ],
   "source": [
    "##sentiential\n",
    "import nltk\n",
    "nltk.download([\n",
    "     \"names\",\n",
    "    \"stopwords\",\n",
    "    \"state_union\",\n",
    "    \"twitter_samples\",\n",
    "    \"movie_reviews\",\n",
    "    \"averaged_perceptron_tagger\",\n",
    "     \"vader_lexicon\",\n",
    "   \"punkt\"])\n",
    "\n",
    "\n",
    "#to be used later\n",
    "from vaderSentiment.vaderSentiment import SentimentIntensityAnalyzer\n",
    "import time\n",
    "analyzer = SentimentIntensityAnalyzer()\n",
    "reviewData['compound'] = [analyzer.polarity_scores(x)['compound'] for x in reviewData['comments']]\n",
    "reviewData['neg'] = [analyzer.polarity_scores(x)['neg'] for x in reviewData['comments']]\n",
    "reviewData['neu'] = [analyzer.polarity_scores(x)['neu'] for x in reviewData['comments']]\n",
    "reviewData['pos'] = [analyzer.polarity_scores(x)['pos'] for x in reviewData['comments']]"
   ]
  },
  {
   "cell_type": "markdown",
   "id": "f697b9bc",
   "metadata": {},
   "source": [
    "## 1. Data cleansing (Function to Divide into different tiers 7 tiers, 1 tier netural to be remove later, left 6 tiers)"
   ]
  },
  {
   "cell_type": "code",
   "execution_count": 28,
   "id": "0e8fe367",
   "metadata": {},
   "outputs": [],
   "source": [
    "from numba import njit\n",
    "import numpy as np\n",
    "#-0.66 to -1\n",
    "#-0.33 to -0.66\n",
    "#0.00 to -0.33\n",
    "#0.00 to 0.33\n",
    "#0.33 to 0.66\n",
    "#0.66 to 1\n",
    "from numba import njit\n",
    "def cut(arr):\n",
    "    bins = np.empty(arr.shape[0])\n",
    "    for idx, x in enumerate(arr):\n",
    "        if (x <= -0.66) & (x > -1):\n",
    "            bins[idx] = 1\n",
    "        elif (x > -0.66) & (x <= -0.33):\n",
    "            bins[idx] = 2\n",
    "        elif (x <0):\n",
    "            bins[idx] = 3\n",
    "        elif (x > 0) & (x < 0.33):\n",
    "            bins[idx] = 4\n",
    "        elif (x >= 0.33) & (x < 0.66):\n",
    "            bins[idx] = 5\n",
    "        elif (x >= 0.66) & (x < 1):\n",
    "            bins[idx] = 6\n",
    "        else:\n",
    "            bins[idx] = 0\n",
    "    return bins\n",
    "\n",
    "df= cut(reviewData['compound'].to_numpy())\n",
    "reviewData['bin']=pd.Series(df)\n",
    "\n",
    "reviewData['bin_word']= reviewData['bin']\n",
    "\n",
    "\n",
    "\n",
    "\n",
    "\n",
    "\n",
    "reviewData['bin_word'].replace(to_replace=[1,2,3,4,5,6,0], value=[\"VN\", \"QN\", \"N\",\"P\",\"QP\",\"VP\",\"NE\"], inplace=True)\n",
    "\n"
   ]
  },
  {
   "cell_type": "code",
   "execution_count": 29,
   "id": "6e02bbd6",
   "metadata": {},
   "outputs": [
    {
     "data": {
      "text/plain": [
       "<bound method NDFrame.head of        listing_id            id        date  reviewer_id reviewer_name  \\\n",
       "0         50646.0  1.190986e+07   18/4/2014    1356099.0         James   \n",
       "1         50646.0  1.382395e+07    5/6/2014   15222393.0         Welli   \n",
       "2         50646.0  1.511722e+07    2/7/2014    5543172.0         Cyril   \n",
       "3         50646.0  1.542646e+07    8/7/2014     817532.0          Jake   \n",
       "4         50646.0  1.555291e+07   11/7/2014   10942382.0         Subba   \n",
       "...           ...           ...         ...          ...           ...   \n",
       "43234  53388036.0  5.200000e+17  18/12/2021  304470840.0           Lai   \n",
       "43235  53408171.0  5.210000e+17  19/12/2021  433426203.0        Prerna   \n",
       "43236  53614218.0  5.190000e+17  17/12/2021  107628510.0        Fellix   \n",
       "43237  53679344.0  5.160000e+17  13/12/2021  340715577.0     Mark Roan   \n",
       "43238  53717759.0  5.140000e+17  10/12/2021  192227309.0       Zhengyi   \n",
       "\n",
       "                                                comments  \\\n",
       "0      A COMFORTABLE ROOM IN A SMART CONDO DEVELOPMEN...   \n",
       "1      STAYED OVER AT SUJATHAS HOUSE FOR  GOOD NIGHTS...   \n",
       "2      ITS BEEN A LOVELY STAY AT SUJATHAS THE ROOM IS...   \n",
       "3      WE HAD A GREAT EXPERIENCE A NICE PLACE AN AMAZ...   \n",
       "4         QUIET CONDO COMFORTABLE STAY AND GOOD LOCATION   \n",
       "...                                                  ...   \n",
       "43234  WEI IS AN AMAZING HOST QUICK RESPONSE FROM WEI...   \n",
       "43235               EASY TO WORK WITH AND GOOD APARTMENT   \n",
       "43236  THANK YOU LUCAS AND SANDY FOR HAVING ME SANDY ...   \n",
       "43237  GREAT HOST AND AMAZING EXPERIENCE GOT THE ONE ...   \n",
       "43238  VERY GOOD LOCATION HOWEVER NO AMENITIES LIKE B...   \n",
       "\n",
       "                                         comments_nostop  \\\n",
       "0      A COMFORTABLE ROOM SMART CONDO DEVELOPMENT EVE...   \n",
       "1      STAYED SUJATHAS HOUSE GOOD NIGHTS BOYFRIEND SU...   \n",
       "2      ITS LOVELY STAY SUJATHAS THE ROOM CLEAN LOCATI...   \n",
       "3      WE GREAT EXPERIENCE A NICE PLACE AMAZING COMPL...   \n",
       "4             QUIET CONDO COMFORTABLE STAY GOOD LOCATION   \n",
       "...                                                  ...   \n",
       "43234       WEI AMAZING HOST QUICK RESPONSE WEI HELPFUL    \n",
       "43235                           EASY WORK GOOD APARTMENT   \n",
       "43236  THANK LUCAS SANDY SANDY FRIENDLY HELPING QUEST...   \n",
       "43237  GREAT HOST AMAZING EXPERIENCE GOT ONE BEST DEA...   \n",
       "43238  VERY GOOD LOCATION HOWEVER AMENITIES LIKE BASI...   \n",
       "\n",
       "                                      comments_tokenized  \\\n",
       "0      ['A', 'COMFORTABLE', 'ROOM', 'SMART', 'CONDO',...   \n",
       "1      ['STAYED', 'SUJATHAS', 'HOUSE', 'GOOD', 'NIGHT...   \n",
       "2      ['ITS', 'LOVELY', 'STAY', 'SUJATHAS', 'THE', '...   \n",
       "3      ['WE', 'GREAT', 'EXPERIENCE', 'A', 'NICE', 'PL...   \n",
       "4      ['QUIET', 'CONDO', 'COMFORTABLE', 'STAY', 'GOO...   \n",
       "...                                                  ...   \n",
       "43234  ['WEI', 'AMAZING', 'HOST', 'QUICK', 'RESPONSE'...   \n",
       "43235              ['EASY', 'WORK', 'GOOD', 'APARTMENT']   \n",
       "43236  ['THANK', 'LUCAS', 'SANDY', 'SANDY', 'FRIENDLY...   \n",
       "43237  ['GREAT', 'HOST', 'AMAZING', 'EXPERIENCE', 'GO...   \n",
       "43238  ['VERY', 'GOOD', 'LOCATION', 'HOWEVER', 'AMENI...   \n",
       "\n",
       "                                                 stemmed  \\\n",
       "0      ['A', 'COMFORT', 'ROOM', 'SMART', 'CONDO', 'DE...   \n",
       "1      ['STAY', 'SUJATHA', 'HOUS', 'GOOD', 'NIGHT', '...   \n",
       "2      ['IT', 'LOVE', 'STAY', 'SUJATHA', 'THE', 'ROOM...   \n",
       "3      ['WE', 'GREAT', 'EXPERI', 'A', 'NICE', 'PLACE'...   \n",
       "4      ['QUIET', 'CONDO', 'COMFORT', 'STAY', 'GOOD', ...   \n",
       "...                                                  ...   \n",
       "43234  ['WEI', 'AMAZ', 'HOST', 'QUICK', 'RESPONS', 'W...   \n",
       "43235                  ['EASI', 'WORK', 'GOOD', 'APART']   \n",
       "43236  ['THANK', 'LUCA', 'SANDI', 'SANDI', 'FRIEND', ...   \n",
       "43237  ['GREAT', 'HOST', 'AMAZ', 'EXPERI', 'GOT', 'ON...   \n",
       "43238  ['VERI', 'GOOD', 'LOCAT', 'HOWEV', 'AMEN', 'LI...   \n",
       "\n",
       "                                              lemmatized  compound    neg  \\\n",
       "0      ['A', 'COMFORTABLE', 'ROOM', 'SMART', 'CONDO',...    0.9298  0.054   \n",
       "1      ['STAYED', 'SUJATHAS', 'HOUSE', 'GOOD', 'NIGHT...    0.9878  0.000   \n",
       "2      ['ITS', 'LOVELY', 'STAY', 'SUJATHAS', 'THE', '...    0.9627  0.000   \n",
       "3      ['WE', 'GREAT', 'EXPERIENCE', 'A', 'NICE', 'PL...    0.9274  0.000   \n",
       "4      ['QUIET', 'CONDO', 'COMFORTABLE', 'STAY', 'GOO...    0.7351  0.000   \n",
       "...                                                  ...       ...    ...   \n",
       "43234  ['WEI', 'AMAZING', 'HOST', 'QUICK', 'RESPONSE'...    0.7841  0.000   \n",
       "43235              ['EASY', 'WORK', 'GOOD', 'APARTMENT']    0.7003  0.000   \n",
       "43236  ['THANK', 'LUCAS', 'SANDY', 'SANDY', 'FRIENDLY...    0.9535  0.000   \n",
       "43237  ['GREAT', 'HOST', 'AMAZING', 'EXPERIENCE', 'GO...    0.9201  0.000   \n",
       "43238  ['VERY', 'GOOD', 'LOCATION', 'HOWEVER', 'AMENI...    0.3363  0.145   \n",
       "\n",
       "         neu    pos  bin bin_word  \n",
       "0      0.623  0.323  6.0       VP  \n",
       "1      0.613  0.387  6.0       VP  \n",
       "2      0.645  0.355  6.0       VP  \n",
       "3      0.489  0.511  6.0       VP  \n",
       "4      0.446  0.554  6.0       VP  \n",
       "...      ...    ...  ...      ...  \n",
       "43234  0.592  0.408  6.0       VP  \n",
       "43235  0.463  0.537  6.0       VP  \n",
       "43236  0.631  0.369  6.0       VP  \n",
       "43237  0.498  0.502  6.0       VP  \n",
       "43238  0.700  0.154  5.0       QP  \n",
       "\n",
       "[43239 rows x 16 columns]>"
      ]
     },
     "execution_count": 29,
     "metadata": {},
     "output_type": "execute_result"
    }
   ],
   "source": [
    "reviewData.head"
   ]
  },
  {
   "cell_type": "markdown",
   "id": "0101b743",
   "metadata": {},
   "source": [
    "## 1. Data cleansing (Removing rows that is netural)"
   ]
  },
  {
   "cell_type": "code",
   "execution_count": 31,
   "id": "f1664abb",
   "metadata": {},
   "outputs": [],
   "source": [
    "##removing netural from dataframe\n",
    "reviewData = reviewData[reviewData['bin_word'] !='NE']"
   ]
  },
  {
   "cell_type": "code",
   "execution_count": 32,
   "id": "5edee2cc",
   "metadata": {},
   "outputs": [
    {
     "data": {
      "text/plain": [
       "<bound method NDFrame.head of        listing_id            id        date  reviewer_id reviewer_name  \\\n",
       "0         50646.0  1.190986e+07   18/4/2014    1356099.0         James   \n",
       "1         50646.0  1.382395e+07    5/6/2014   15222393.0         Welli   \n",
       "2         50646.0  1.511722e+07    2/7/2014    5543172.0         Cyril   \n",
       "3         50646.0  1.542646e+07    8/7/2014     817532.0          Jake   \n",
       "4         50646.0  1.555291e+07   11/7/2014   10942382.0         Subba   \n",
       "...           ...           ...         ...          ...           ...   \n",
       "43234  53388036.0  5.200000e+17  18/12/2021  304470840.0           Lai   \n",
       "43235  53408171.0  5.210000e+17  19/12/2021  433426203.0        Prerna   \n",
       "43236  53614218.0  5.190000e+17  17/12/2021  107628510.0        Fellix   \n",
       "43237  53679344.0  5.160000e+17  13/12/2021  340715577.0     Mark Roan   \n",
       "43238  53717759.0  5.140000e+17  10/12/2021  192227309.0       Zhengyi   \n",
       "\n",
       "                                                comments  \\\n",
       "0      A COMFORTABLE ROOM IN A SMART CONDO DEVELOPMEN...   \n",
       "1      STAYED OVER AT SUJATHAS HOUSE FOR  GOOD NIGHTS...   \n",
       "2      ITS BEEN A LOVELY STAY AT SUJATHAS THE ROOM IS...   \n",
       "3      WE HAD A GREAT EXPERIENCE A NICE PLACE AN AMAZ...   \n",
       "4         QUIET CONDO COMFORTABLE STAY AND GOOD LOCATION   \n",
       "...                                                  ...   \n",
       "43234  WEI IS AN AMAZING HOST QUICK RESPONSE FROM WEI...   \n",
       "43235               EASY TO WORK WITH AND GOOD APARTMENT   \n",
       "43236  THANK YOU LUCAS AND SANDY FOR HAVING ME SANDY ...   \n",
       "43237  GREAT HOST AND AMAZING EXPERIENCE GOT THE ONE ...   \n",
       "43238  VERY GOOD LOCATION HOWEVER NO AMENITIES LIKE B...   \n",
       "\n",
       "                                         comments_nostop  \\\n",
       "0      A COMFORTABLE ROOM SMART CONDO DEVELOPMENT EVE...   \n",
       "1      STAYED SUJATHAS HOUSE GOOD NIGHTS BOYFRIEND SU...   \n",
       "2      ITS LOVELY STAY SUJATHAS THE ROOM CLEAN LOCATI...   \n",
       "3      WE GREAT EXPERIENCE A NICE PLACE AMAZING COMPL...   \n",
       "4             QUIET CONDO COMFORTABLE STAY GOOD LOCATION   \n",
       "...                                                  ...   \n",
       "43234       WEI AMAZING HOST QUICK RESPONSE WEI HELPFUL    \n",
       "43235                           EASY WORK GOOD APARTMENT   \n",
       "43236  THANK LUCAS SANDY SANDY FRIENDLY HELPING QUEST...   \n",
       "43237  GREAT HOST AMAZING EXPERIENCE GOT ONE BEST DEA...   \n",
       "43238  VERY GOOD LOCATION HOWEVER AMENITIES LIKE BASI...   \n",
       "\n",
       "                                      comments_tokenized  \\\n",
       "0      ['A', 'COMFORTABLE', 'ROOM', 'SMART', 'CONDO',...   \n",
       "1      ['STAYED', 'SUJATHAS', 'HOUSE', 'GOOD', 'NIGHT...   \n",
       "2      ['ITS', 'LOVELY', 'STAY', 'SUJATHAS', 'THE', '...   \n",
       "3      ['WE', 'GREAT', 'EXPERIENCE', 'A', 'NICE', 'PL...   \n",
       "4      ['QUIET', 'CONDO', 'COMFORTABLE', 'STAY', 'GOO...   \n",
       "...                                                  ...   \n",
       "43234  ['WEI', 'AMAZING', 'HOST', 'QUICK', 'RESPONSE'...   \n",
       "43235              ['EASY', 'WORK', 'GOOD', 'APARTMENT']   \n",
       "43236  ['THANK', 'LUCAS', 'SANDY', 'SANDY', 'FRIENDLY...   \n",
       "43237  ['GREAT', 'HOST', 'AMAZING', 'EXPERIENCE', 'GO...   \n",
       "43238  ['VERY', 'GOOD', 'LOCATION', 'HOWEVER', 'AMENI...   \n",
       "\n",
       "                                                 stemmed  \\\n",
       "0      ['A', 'COMFORT', 'ROOM', 'SMART', 'CONDO', 'DE...   \n",
       "1      ['STAY', 'SUJATHA', 'HOUS', 'GOOD', 'NIGHT', '...   \n",
       "2      ['IT', 'LOVE', 'STAY', 'SUJATHA', 'THE', 'ROOM...   \n",
       "3      ['WE', 'GREAT', 'EXPERI', 'A', 'NICE', 'PLACE'...   \n",
       "4      ['QUIET', 'CONDO', 'COMFORT', 'STAY', 'GOOD', ...   \n",
       "...                                                  ...   \n",
       "43234  ['WEI', 'AMAZ', 'HOST', 'QUICK', 'RESPONS', 'W...   \n",
       "43235                  ['EASI', 'WORK', 'GOOD', 'APART']   \n",
       "43236  ['THANK', 'LUCA', 'SANDI', 'SANDI', 'FRIEND', ...   \n",
       "43237  ['GREAT', 'HOST', 'AMAZ', 'EXPERI', 'GOT', 'ON...   \n",
       "43238  ['VERI', 'GOOD', 'LOCAT', 'HOWEV', 'AMEN', 'LI...   \n",
       "\n",
       "                                              lemmatized  compound    neg  \\\n",
       "0      ['A', 'COMFORTABLE', 'ROOM', 'SMART', 'CONDO',...    0.9298  0.054   \n",
       "1      ['STAYED', 'SUJATHAS', 'HOUSE', 'GOOD', 'NIGHT...    0.9878  0.000   \n",
       "2      ['ITS', 'LOVELY', 'STAY', 'SUJATHAS', 'THE', '...    0.9627  0.000   \n",
       "3      ['WE', 'GREAT', 'EXPERIENCE', 'A', 'NICE', 'PL...    0.9274  0.000   \n",
       "4      ['QUIET', 'CONDO', 'COMFORTABLE', 'STAY', 'GOO...    0.7351  0.000   \n",
       "...                                                  ...       ...    ...   \n",
       "43234  ['WEI', 'AMAZING', 'HOST', 'QUICK', 'RESPONSE'...    0.7841  0.000   \n",
       "43235              ['EASY', 'WORK', 'GOOD', 'APARTMENT']    0.7003  0.000   \n",
       "43236  ['THANK', 'LUCAS', 'SANDY', 'SANDY', 'FRIENDLY...    0.9535  0.000   \n",
       "43237  ['GREAT', 'HOST', 'AMAZING', 'EXPERIENCE', 'GO...    0.9201  0.000   \n",
       "43238  ['VERY', 'GOOD', 'LOCATION', 'HOWEVER', 'AMENI...    0.3363  0.145   \n",
       "\n",
       "         neu    pos  bin bin_word  \n",
       "0      0.623  0.323  6.0       VP  \n",
       "1      0.613  0.387  6.0       VP  \n",
       "2      0.645  0.355  6.0       VP  \n",
       "3      0.489  0.511  6.0       VP  \n",
       "4      0.446  0.554  6.0       VP  \n",
       "...      ...    ...  ...      ...  \n",
       "43234  0.592  0.408  6.0       VP  \n",
       "43235  0.463  0.537  6.0       VP  \n",
       "43236  0.631  0.369  6.0       VP  \n",
       "43237  0.498  0.502  6.0       VP  \n",
       "43238  0.700  0.154  5.0       QP  \n",
       "\n",
       "[37352 rows x 16 columns]>"
      ]
     },
     "execution_count": 32,
     "metadata": {},
     "output_type": "execute_result"
    }
   ],
   "source": [
    "reviewData.head #(37352 rows) 5887 is null"
   ]
  },
  {
   "cell_type": "markdown",
   "id": "957180e7",
   "metadata": {},
   "source": [
    "## Export of Data"
   ]
  },
  {
   "cell_type": "code",
   "execution_count": 33,
   "id": "119de625",
   "metadata": {},
   "outputs": [],
   "source": [
    "#export cleansed data\n",
    "reviewData.to_csv('6.review(cleansed).csv')"
   ]
  },
  {
   "cell_type": "code",
   "execution_count": null,
   "id": "789d5457",
   "metadata": {},
   "outputs": [],
   "source": []
  }
 ],
 "metadata": {
  "kernelspec": {
   "display_name": "Python 3 (ipykernel)",
   "language": "python",
   "name": "python3"
  },
  "language_info": {
   "codemirror_mode": {
    "name": "ipython",
    "version": 3
   },
   "file_extension": ".py",
   "mimetype": "text/x-python",
   "name": "python",
   "nbconvert_exporter": "python",
   "pygments_lexer": "ipython3",
   "version": "3.9.7"
  }
 },
 "nbformat": 4,
 "nbformat_minor": 5
}
