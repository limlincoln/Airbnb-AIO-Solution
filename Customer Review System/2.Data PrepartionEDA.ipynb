{
 "cells": [
  {
   "cell_type": "code",
   "execution_count": 1,
   "id": "b46d9ffb",
   "metadata": {},
   "outputs": [],
   "source": [
    "# Basic Libraries\n",
    "import pandas as pd\n",
    "import matplotlib.pyplot as plt\n",
    "import seaborn as sns\n",
    "from wordcloud import WordCloud\n",
    "import re"
   ]
  },
  {
   "cell_type": "code",
   "execution_count": 2,
   "id": "b20c4e66",
   "metadata": {},
   "outputs": [],
   "source": [
    "##natural language processing\n",
    "import nltk\n",
    "from nltk.corpus import stopwords\n",
    "from nltk.stem import WordNetLemmatizer"
   ]
  },
  {
   "cell_type": "code",
   "execution_count": 3,
   "id": "d3abccf8",
   "metadata": {},
   "outputs": [],
   "source": [
    "##for machine learning\n",
    "from sklearn.feature_extraction.text import CountVectorizer\n",
    "from sklearn.model_selection import GridSearchCV\n",
    "from sklearn.ensemble import RandomForestClassifier"
   ]
  },
  {
   "cell_type": "code",
   "execution_count": 4,
   "id": "e854c3df",
   "metadata": {},
   "outputs": [],
   "source": [
    "#importing\n",
    "reviewcleansed_dataframe= pd.read_csv('6.review(cleansed).csv')"
   ]
  },
  {
   "cell_type": "code",
   "execution_count": 5,
   "id": "a75ff358",
   "metadata": {},
   "outputs": [],
   "source": [
    "import numpy as np\n",
    "current_state = np.random.get_state()\n",
    "a = np.random.randn(3)"
   ]
  },
  {
   "cell_type": "code",
   "execution_count": 6,
   "id": "30da311e",
   "metadata": {},
   "outputs": [
    {
     "data": {
      "text/html": [
       "<div>\n",
       "<style scoped>\n",
       "    .dataframe tbody tr th:only-of-type {\n",
       "        vertical-align: middle;\n",
       "    }\n",
       "\n",
       "    .dataframe tbody tr th {\n",
       "        vertical-align: top;\n",
       "    }\n",
       "\n",
       "    .dataframe thead th {\n",
       "        text-align: right;\n",
       "    }\n",
       "</style>\n",
       "<table border=\"1\" class=\"dataframe\">\n",
       "  <thead>\n",
       "    <tr style=\"text-align: right;\">\n",
       "      <th></th>\n",
       "      <th>Unnamed: 0</th>\n",
       "      <th>listing_id</th>\n",
       "      <th>id</th>\n",
       "      <th>date</th>\n",
       "      <th>reviewer_id</th>\n",
       "      <th>reviewer_name</th>\n",
       "      <th>comments</th>\n",
       "      <th>comments_nostop</th>\n",
       "      <th>comments_tokenized</th>\n",
       "      <th>stemmed</th>\n",
       "      <th>lemmatized</th>\n",
       "      <th>compound</th>\n",
       "      <th>neg</th>\n",
       "      <th>neu</th>\n",
       "      <th>pos</th>\n",
       "      <th>bin</th>\n",
       "      <th>bin_word</th>\n",
       "    </tr>\n",
       "  </thead>\n",
       "  <tbody>\n",
       "    <tr>\n",
       "      <th>0</th>\n",
       "      <td>0</td>\n",
       "      <td>50646.0</td>\n",
       "      <td>11909864.0</td>\n",
       "      <td>18/4/2014</td>\n",
       "      <td>1356099.0</td>\n",
       "      <td>James</td>\n",
       "      <td>A COMFORTABLE ROOM IN A SMART CONDO DEVELOPMEN...</td>\n",
       "      <td>A COMFORTABLE ROOM SMART CONDO DEVELOPMENT EVE...</td>\n",
       "      <td>['A', 'COMFORTABLE', 'ROOM', 'SMART', 'CONDO',...</td>\n",
       "      <td>['A', 'COMFORT', 'ROOM', 'SMART', 'CONDO', 'DE...</td>\n",
       "      <td>['A', 'COMFORTABLE', 'ROOM', 'SMART', 'CONDO',...</td>\n",
       "      <td>0.9298</td>\n",
       "      <td>0.054</td>\n",
       "      <td>0.623</td>\n",
       "      <td>0.323</td>\n",
       "      <td>6.0</td>\n",
       "      <td>VP</td>\n",
       "    </tr>\n",
       "    <tr>\n",
       "      <th>1</th>\n",
       "      <td>1</td>\n",
       "      <td>50646.0</td>\n",
       "      <td>13823948.0</td>\n",
       "      <td>5/6/2014</td>\n",
       "      <td>15222393.0</td>\n",
       "      <td>Welli</td>\n",
       "      <td>STAYED OVER AT SUJATHAS HOUSE FOR  GOOD NIGHTS...</td>\n",
       "      <td>STAYED SUJATHAS HOUSE GOOD NIGHTS BOYFRIEND SU...</td>\n",
       "      <td>['STAYED', 'SUJATHAS', 'HOUSE', 'GOOD', 'NIGHT...</td>\n",
       "      <td>['STAY', 'SUJATHA', 'HOUS', 'GOOD', 'NIGHT', '...</td>\n",
       "      <td>['STAYED', 'SUJATHAS', 'HOUSE', 'GOOD', 'NIGHT...</td>\n",
       "      <td>0.9878</td>\n",
       "      <td>0.000</td>\n",
       "      <td>0.613</td>\n",
       "      <td>0.387</td>\n",
       "      <td>6.0</td>\n",
       "      <td>VP</td>\n",
       "    </tr>\n",
       "    <tr>\n",
       "      <th>2</th>\n",
       "      <td>2</td>\n",
       "      <td>50646.0</td>\n",
       "      <td>15117222.0</td>\n",
       "      <td>2/7/2014</td>\n",
       "      <td>5543172.0</td>\n",
       "      <td>Cyril</td>\n",
       "      <td>ITS BEEN A LOVELY STAY AT SUJATHAS THE ROOM IS...</td>\n",
       "      <td>ITS LOVELY STAY SUJATHAS THE ROOM CLEAN LOCATI...</td>\n",
       "      <td>['ITS', 'LOVELY', 'STAY', 'SUJATHAS', 'THE', '...</td>\n",
       "      <td>['IT', 'LOVE', 'STAY', 'SUJATHA', 'THE', 'ROOM...</td>\n",
       "      <td>['ITS', 'LOVELY', 'STAY', 'SUJATHAS', 'THE', '...</td>\n",
       "      <td>0.9627</td>\n",
       "      <td>0.000</td>\n",
       "      <td>0.645</td>\n",
       "      <td>0.355</td>\n",
       "      <td>6.0</td>\n",
       "      <td>VP</td>\n",
       "    </tr>\n",
       "    <tr>\n",
       "      <th>3</th>\n",
       "      <td>3</td>\n",
       "      <td>50646.0</td>\n",
       "      <td>15426462.0</td>\n",
       "      <td>8/7/2014</td>\n",
       "      <td>817532.0</td>\n",
       "      <td>Jake</td>\n",
       "      <td>WE HAD A GREAT EXPERIENCE A NICE PLACE AN AMAZ...</td>\n",
       "      <td>WE GREAT EXPERIENCE A NICE PLACE AMAZING COMPL...</td>\n",
       "      <td>['WE', 'GREAT', 'EXPERIENCE', 'A', 'NICE', 'PL...</td>\n",
       "      <td>['WE', 'GREAT', 'EXPERI', 'A', 'NICE', 'PLACE'...</td>\n",
       "      <td>['WE', 'GREAT', 'EXPERIENCE', 'A', 'NICE', 'PL...</td>\n",
       "      <td>0.9274</td>\n",
       "      <td>0.000</td>\n",
       "      <td>0.489</td>\n",
       "      <td>0.511</td>\n",
       "      <td>6.0</td>\n",
       "      <td>VP</td>\n",
       "    </tr>\n",
       "    <tr>\n",
       "      <th>4</th>\n",
       "      <td>4</td>\n",
       "      <td>50646.0</td>\n",
       "      <td>15552912.0</td>\n",
       "      <td>11/7/2014</td>\n",
       "      <td>10942382.0</td>\n",
       "      <td>Subba</td>\n",
       "      <td>QUIET CONDO COMFORTABLE STAY AND GOOD LOCATION</td>\n",
       "      <td>QUIET CONDO COMFORTABLE STAY GOOD LOCATION</td>\n",
       "      <td>['QUIET', 'CONDO', 'COMFORTABLE', 'STAY', 'GOO...</td>\n",
       "      <td>['QUIET', 'CONDO', 'COMFORT', 'STAY', 'GOOD', ...</td>\n",
       "      <td>['QUIET', 'CONDO', 'COMFORTABLE', 'STAY', 'GOO...</td>\n",
       "      <td>0.7351</td>\n",
       "      <td>0.000</td>\n",
       "      <td>0.446</td>\n",
       "      <td>0.554</td>\n",
       "      <td>6.0</td>\n",
       "      <td>VP</td>\n",
       "    </tr>\n",
       "  </tbody>\n",
       "</table>\n",
       "</div>"
      ],
      "text/plain": [
       "   Unnamed: 0  listing_id          id       date  reviewer_id reviewer_name  \\\n",
       "0           0     50646.0  11909864.0  18/4/2014    1356099.0         James   \n",
       "1           1     50646.0  13823948.0   5/6/2014   15222393.0         Welli   \n",
       "2           2     50646.0  15117222.0   2/7/2014    5543172.0         Cyril   \n",
       "3           3     50646.0  15426462.0   8/7/2014     817532.0          Jake   \n",
       "4           4     50646.0  15552912.0  11/7/2014   10942382.0         Subba   \n",
       "\n",
       "                                            comments  \\\n",
       "0  A COMFORTABLE ROOM IN A SMART CONDO DEVELOPMEN...   \n",
       "1  STAYED OVER AT SUJATHAS HOUSE FOR  GOOD NIGHTS...   \n",
       "2  ITS BEEN A LOVELY STAY AT SUJATHAS THE ROOM IS...   \n",
       "3  WE HAD A GREAT EXPERIENCE A NICE PLACE AN AMAZ...   \n",
       "4     QUIET CONDO COMFORTABLE STAY AND GOOD LOCATION   \n",
       "\n",
       "                                     comments_nostop  \\\n",
       "0  A COMFORTABLE ROOM SMART CONDO DEVELOPMENT EVE...   \n",
       "1  STAYED SUJATHAS HOUSE GOOD NIGHTS BOYFRIEND SU...   \n",
       "2  ITS LOVELY STAY SUJATHAS THE ROOM CLEAN LOCATI...   \n",
       "3  WE GREAT EXPERIENCE A NICE PLACE AMAZING COMPL...   \n",
       "4         QUIET CONDO COMFORTABLE STAY GOOD LOCATION   \n",
       "\n",
       "                                  comments_tokenized  \\\n",
       "0  ['A', 'COMFORTABLE', 'ROOM', 'SMART', 'CONDO',...   \n",
       "1  ['STAYED', 'SUJATHAS', 'HOUSE', 'GOOD', 'NIGHT...   \n",
       "2  ['ITS', 'LOVELY', 'STAY', 'SUJATHAS', 'THE', '...   \n",
       "3  ['WE', 'GREAT', 'EXPERIENCE', 'A', 'NICE', 'PL...   \n",
       "4  ['QUIET', 'CONDO', 'COMFORTABLE', 'STAY', 'GOO...   \n",
       "\n",
       "                                             stemmed  \\\n",
       "0  ['A', 'COMFORT', 'ROOM', 'SMART', 'CONDO', 'DE...   \n",
       "1  ['STAY', 'SUJATHA', 'HOUS', 'GOOD', 'NIGHT', '...   \n",
       "2  ['IT', 'LOVE', 'STAY', 'SUJATHA', 'THE', 'ROOM...   \n",
       "3  ['WE', 'GREAT', 'EXPERI', 'A', 'NICE', 'PLACE'...   \n",
       "4  ['QUIET', 'CONDO', 'COMFORT', 'STAY', 'GOOD', ...   \n",
       "\n",
       "                                          lemmatized  compound    neg    neu  \\\n",
       "0  ['A', 'COMFORTABLE', 'ROOM', 'SMART', 'CONDO',...    0.9298  0.054  0.623   \n",
       "1  ['STAYED', 'SUJATHAS', 'HOUSE', 'GOOD', 'NIGHT...    0.9878  0.000  0.613   \n",
       "2  ['ITS', 'LOVELY', 'STAY', 'SUJATHAS', 'THE', '...    0.9627  0.000  0.645   \n",
       "3  ['WE', 'GREAT', 'EXPERIENCE', 'A', 'NICE', 'PL...    0.9274  0.000  0.489   \n",
       "4  ['QUIET', 'CONDO', 'COMFORTABLE', 'STAY', 'GOO...    0.7351  0.000  0.446   \n",
       "\n",
       "     pos  bin bin_word  \n",
       "0  0.323  6.0       VP  \n",
       "1  0.387  6.0       VP  \n",
       "2  0.355  6.0       VP  \n",
       "3  0.511  6.0       VP  \n",
       "4  0.554  6.0       VP  "
      ]
     },
     "execution_count": 6,
     "metadata": {},
     "output_type": "execute_result"
    }
   ],
   "source": [
    "reviewcleansed_dataframe.head()"
   ]
  },
  {
   "cell_type": "code",
   "execution_count": 7,
   "id": "34134315",
   "metadata": {},
   "outputs": [
    {
     "data": {
      "text/plain": [
       "(37352, 17)"
      ]
     },
     "execution_count": 7,
     "metadata": {},
     "output_type": "execute_result"
    }
   ],
   "source": [
    "reviewcleansed_dataframe.shape"
   ]
  },
  {
   "cell_type": "code",
   "execution_count": 8,
   "id": "3040b222",
   "metadata": {},
   "outputs": [],
   "source": [
    "##creating positve and negative dataframe\n",
    "VN= reviewcleansed_dataframe[reviewcleansed_dataframe['bin_word'] =='VN']\n",
    "QN=reviewcleansed_dataframe[reviewcleansed_dataframe['bin_word'] =='QN']\n",
    "N= reviewcleansed_dataframe[reviewcleansed_dataframe['bin_word'] =='N']\n",
    "P=reviewcleansed_dataframe[reviewcleansed_dataframe['bin_word'] =='P']\n",
    "QP= reviewcleansed_dataframe[reviewcleansed_dataframe['bin_word'] =='QP']\n",
    "VP=reviewcleansed_dataframe[reviewcleansed_dataframe['bin_word'] =='VP']"
   ]
  },
  {
   "cell_type": "code",
   "execution_count": 9,
   "id": "09b39573",
   "metadata": {},
   "outputs": [
    {
     "data": {
      "text/plain": [
       "(219, 17)"
      ]
     },
     "execution_count": 9,
     "metadata": {},
     "output_type": "execute_result"
    }
   ],
   "source": [
    "VN.shape   #very negative percentage  0.58%"
   ]
  },
  {
   "cell_type": "code",
   "execution_count": 10,
   "id": "10f5eadb",
   "metadata": {},
   "outputs": [
    {
     "data": {
      "text/plain": [
       "(262, 17)"
      ]
     },
     "execution_count": 10,
     "metadata": {},
     "output_type": "execute_result"
    }
   ],
   "source": [
    "QN.shape   #quite negative percentage  0.70%"
   ]
  },
  {
   "cell_type": "code",
   "execution_count": 11,
   "id": "44fffdfc",
   "metadata": {},
   "outputs": [
    {
     "data": {
      "text/plain": [
       "(344, 17)"
      ]
     },
     "execution_count": 11,
     "metadata": {},
     "output_type": "execute_result"
    }
   ],
   "source": [
    "N.shape    #negative percentage    0.92%"
   ]
  },
  {
   "cell_type": "code",
   "execution_count": 12,
   "id": "4f019c5d",
   "metadata": {},
   "outputs": [
    {
     "data": {
      "text/plain": [
       "(1035, 17)"
      ]
     },
     "execution_count": 12,
     "metadata": {},
     "output_type": "execute_result"
    }
   ],
   "source": [
    "P.shape   #postive percentage   2.77%"
   ]
  },
  {
   "cell_type": "code",
   "execution_count": 13,
   "id": "9ba23cbb",
   "metadata": {},
   "outputs": [
    {
     "data": {
      "text/plain": [
       "(7681, 17)"
      ]
     },
     "execution_count": 13,
     "metadata": {},
     "output_type": "execute_result"
    }
   ],
   "source": [
    "QP.shape  #quite positve percentage 20.56%"
   ]
  },
  {
   "cell_type": "code",
   "execution_count": 14,
   "id": "ce84a6f7",
   "metadata": {},
   "outputs": [
    {
     "data": {
      "text/plain": [
       "(27811, 17)"
      ]
     },
     "execution_count": 14,
     "metadata": {},
     "output_type": "execute_result"
    }
   ],
   "source": [
    "VP.shape    #very positve percentage  74.45%"
   ]
  },
  {
   "cell_type": "code",
   "execution_count": 15,
   "id": "277b2939",
   "metadata": {},
   "outputs": [
    {
     "data": {
      "text/plain": [
       "1705"
      ]
     },
     "execution_count": 15,
     "metadata": {},
     "output_type": "execute_result"
    }
   ],
   "source": [
    "##due to the imbalace in dataset percentage, the team decided to resampling the majority class to follow the negative percentage ratio and size\n",
    "##resample 219 from very posititve\n",
    "##resample 262 from quite positive\n",
    "##resample 344 from positive\n",
    "##to ensure fairness\n",
    "##Randomly select unique row from dataframe in Pandas will be used\n",
    "len(VN['listing_id'].unique().tolist()) ##finding how many unique id there are 177 average comment 1.23\n",
    "len(QN['listing_id'].unique().tolist()) ##finding how many unique id there are 212 averge comment 1.23\n",
    "len(N['listing_id'].unique().tolist()) ##finding how many unique id there are 261  averagecomment 1.31 \n",
    "len(P['listing_id'].unique().tolist()) ##finding how many unique id there are 539  average comment 1.92 \n",
    "len(QP['listing_id'].unique().tolist()) ##finding how many unique id there are 1274 average comment 6.02 \n",
    "len(VP['listing_id'].unique().tolist()) ##finding how many unique id there are 1705 average comment 16.3 \n",
    "#to keep the dataset larage the team decided to random select one comment from each unique id for P,QP,VP based on the\n",
    "#shape of the VN,QN,N e.g for negative have 344 comments, we will pick a total of 344 comment from the unique ID"
   ]
  },
  {
   "cell_type": "markdown",
   "id": "53b680f8",
   "metadata": {},
   "source": [
    "## Undersampling method "
   ]
  },
  {
   "cell_type": "code",
   "execution_count": 16,
   "id": "7cc4f5db",
   "metadata": {},
   "outputs": [],
   "source": [
    "#undersampling method\n",
    "#positive \n",
    "P = P.sample(frac=1).drop_duplicates(subset='listing_id')\n",
    "P = P.sample(n=344)\n",
    "##quite postive\n",
    "QP = QP.sample(frac=1).drop_duplicates(subset='listing_id')\n",
    "QP = QP.sample(n=262)\n",
    "##very postive\n",
    "VP = VP.sample(frac=1).drop_duplicates(subset='listing_id')\n",
    "VP = VP.sample(n=219)\n",
    "##row id for cleansing of list to syn\n",
    "VNd = VN\n",
    "QNd = QN\n",
    "Nd  = N\n",
    "Pd  = P\n",
    "QPd = QP\n",
    "VPd = VP"
   ]
  },
  {
   "cell_type": "code",
   "execution_count": 17,
   "id": "33361bae",
   "metadata": {},
   "outputs": [],
   "source": [
    "pdList = [VNd,QNd,Nd,Pd,QPd,VPd] \n",
    "undersample_df = pd.concat(pdList)"
   ]
  },
  {
   "cell_type": "code",
   "execution_count": 18,
   "id": "0eb63941",
   "metadata": {},
   "outputs": [
    {
     "data": {
      "text/plain": [
       "(1650, 17)"
      ]
     },
     "execution_count": 18,
     "metadata": {},
     "output_type": "execute_result"
    }
   ],
   "source": [
    "undersample_df.shape"
   ]
  },
  {
   "cell_type": "code",
   "execution_count": 19,
   "id": "a9390294",
   "metadata": {},
   "outputs": [
    {
     "data": {
      "text/plain": [
       "921"
      ]
     },
     "execution_count": 19,
     "metadata": {},
     "output_type": "execute_result"
    }
   ],
   "source": [
    "len(undersample_df['listing_id'].unique().tolist())"
   ]
  },
  {
   "cell_type": "code",
   "execution_count": 20,
   "id": "443d592b",
   "metadata": {},
   "outputs": [],
   "source": [
    "undersample_df.to_csv('undersample.csv')"
   ]
  },
  {
   "cell_type": "markdown",
   "id": "e1b4a754",
   "metadata": {},
   "source": [
    "## Oversample method "
   ]
  },
  {
   "cell_type": "code",
   "execution_count": 21,
   "id": "378390c3",
   "metadata": {},
   "outputs": [],
   "source": [
    "##oversample implementation\n",
    "##creating positve and negative dataframe #825\n",
    "negativeframe = reviewcleansed_dataframe[(reviewcleansed_dataframe['bin_word'] == \"N\")|(reviewcleansed_dataframe['bin_word']==\"QN\")|(reviewcleansed_dataframe['bin_word']==\"VN\")]\n",
    "positiveframe = reviewcleansed_dataframe[(reviewcleansed_dataframe['bin_word'] == \"P\")|(reviewcleansed_dataframe['bin_word']==\"QP\")|(reviewcleansed_dataframe['bin_word']==\"VP\")]\n",
    "negativeframe = negativeframe.sample(n=36527,replace=True)\n"
   ]
  },
  {
   "cell_type": "code",
   "execution_count": 22,
   "id": "03ad0674",
   "metadata": {},
   "outputs": [
    {
     "data": {
      "text/plain": [
       "<bound method NDFrame.head of        Unnamed: 0  listing_id           id        date  reviewer_id  \\\n",
       "35678       41340  42417293.0  758621787.0   16/5/2021   38194600.0   \n",
       "10259       11872   8195397.0  532037628.0   19/9/2019   38866195.0   \n",
       "24296       28200  22021293.0  351473688.0  23/11/2018  170388044.0   \n",
       "33730       39108  36920538.0  597206832.0   25/1/2020   86569687.0   \n",
       "36714       42524  45771807.0  753488269.0   30/4/2021   43043281.0   \n",
       "...           ...         ...          ...         ...          ...   \n",
       "12195       14107   9563744.0  188889670.0   31/8/2017  147295656.0   \n",
       "26045       30149  24170288.0  292800518.0   19/7/2018   58842127.0   \n",
       "2661         2994   3859180.0  219598702.0  18/12/2017  154884659.0   \n",
       "3599         4049   4380000.0  573723009.0   7/12/2019  264579045.0   \n",
       "19647       22882  16522880.0  230798056.0   29/1/2018   69380143.0   \n",
       "\n",
       "      reviewer_name                                           comments  \\\n",
       "35678            Ck  EASY TO CHECK IN AND CHECK OUT WITH THEIR APP ...   \n",
       "10259        Pamela  NO AIR CONDITIONING IN ROOM THERE ARE  FLOORS ...   \n",
       "24296      Claudine  THE PLACE IS VERY VERY SMALL THE BED MATELAS O...   \n",
       "33730      Marouane  VERY BAD EXPERIENCE  DONT RESERVE IF YOU WANT ...   \n",
       "36714          Tina  HOST CANCELLED WITHOUT SAYING REASON AND UNRES...   \n",
       "...             ...                                                ...   \n",
       "12195        Niklas            GOOD SMALL ROOM BUT NO PRIVATE BATHROOM   \n",
       "26045       Richard  THE GOOD THE BAD AND THE UGLY WE STAYED AT TRY...   \n",
       "2661          Allie  VERY CONVENIENT CHECKINCHECKOUT CLEAN AND AC I...   \n",
       "3599             송희  CHAIR IS BROKEN NEARY THERE IS A BIG ROAD IT I...   \n",
       "19647         Huỳnh  DEFINITELY NOT RECOMMEND THE PLACE IS SMALL OL...   \n",
       "\n",
       "                                         comments_nostop  \\\n",
       "35678           EASY CHECK CHECK APP NO QUEUE SUPER FAST   \n",
       "10259  NO AIR CONDITIONING ROOM FLOORS ELEVATORI KNEW...   \n",
       "24296  THE PLACE SMALL THE BED MATELAS FLOOR COMFORTA...   \n",
       "33730  VERY BAD EXPERIENCE DONT RESERVE WANT CHANGE D...   \n",
       "36714  HOST CANCELLED WITHOUT SAYING REASON UNRESPONS...   \n",
       "...                                                  ...   \n",
       "12195                   GOOD SMALL ROOM PRIVATE BATHROOM   \n",
       "26045  THE GOOD THE BAD THE UGLY WE STAYED TRYSTONS P...   \n",
       "2661   VERY CONVENIENT CHECKINCHECKOUT CLEAN AC EFFEC...   \n",
       "3599                CHAIR BROKEN NEARY BIG ROAD IT NOISY   \n",
       "19647  DEFINITELY NOT RECOMMEND THE PLACE SMALL OLD D...   \n",
       "\n",
       "                                      comments_tokenized  \\\n",
       "35678  ['EASY', 'CHECK', 'CHECK', 'APP', 'NO', 'QUEUE...   \n",
       "10259  ['NO', 'AIR', 'CONDITIONING', 'ROOM', 'FLOORS'...   \n",
       "24296  ['THE', 'PLACE', 'SMALL', 'THE', 'BED', 'MATEL...   \n",
       "33730  ['VERY', 'BAD', 'EXPERIENCE', 'DONT', 'RESERVE...   \n",
       "36714  ['HOST', 'CANCELLED', 'WITHOUT', 'SAYING', 'RE...   \n",
       "...                                                  ...   \n",
       "12195   ['GOOD', 'SMALL', 'ROOM', 'PRIVATE', 'BATHROOM']   \n",
       "26045  ['THE', 'GOOD', 'THE', 'BAD', 'THE', 'UGLY', '...   \n",
       "2661   ['VERY', 'CONVENIENT', 'CHECKINCHECKOUT', 'CLE...   \n",
       "3599   ['CHAIR', 'BROKEN', 'NEARY', 'BIG', 'ROAD', 'I...   \n",
       "19647  ['DEFINITELY', 'NOT', 'RECOMMEND', 'THE', 'PLA...   \n",
       "\n",
       "                                                 stemmed  \\\n",
       "35678  ['EASI', 'CHECK', 'CHECK', 'APP', 'NO', 'QUEUE...   \n",
       "10259  ['NO', 'AIR', 'CONDIT', 'ROOM', 'FLOOR', 'ELEV...   \n",
       "24296  ['THE', 'PLACE', 'SMALL', 'THE', 'BED', 'MATEL...   \n",
       "33730  ['VERI', 'BAD', 'EXPERI', 'DONT', 'RESERV', 'W...   \n",
       "36714  ['HOST', 'CANCEL', 'WITHOUT', 'SAY', 'REASON',...   \n",
       "...                                                  ...   \n",
       "12195    ['GOOD', 'SMALL', 'ROOM', 'PRIVAT', 'BATHROOM']   \n",
       "26045  ['THE', 'GOOD', 'THE', 'BAD', 'THE', 'UGLI', '...   \n",
       "2661   ['VERI', 'CONVENI', 'CHECKINCHECKOUT', 'CLEAN'...   \n",
       "3599   ['CHAIR', 'BROKEN', 'NEARI', 'BIG', 'ROAD', 'I...   \n",
       "19647  ['DEFINIT', 'NOT', 'RECOMMEND', 'THE', 'PLACE'...   \n",
       "\n",
       "                                              lemmatized  compound    neg  \\\n",
       "35678  ['EASY', 'CHECK', 'CHECK', 'APP', 'NO', 'QUEUE...   -0.3498  0.278   \n",
       "10259  ['NO', 'AIR', 'CONDITIONING', 'ROOM', 'FLOOR',...   -0.0811  0.138   \n",
       "24296  ['THE', 'PLACE', 'SMALL', 'THE', 'BED', 'MATEL...   -0.0777  0.082   \n",
       "33730  ['VERY', 'BAD', 'EXPERIENCE', 'DONT', 'RESERVE...   -0.5431  0.152   \n",
       "36714  ['HOST', 'CANCELLED', 'WITHOUT', 'SAYING', 'RE...   -0.2500  0.154   \n",
       "...                                                  ...       ...    ...   \n",
       "12195   ['GOOD', 'SMALL', 'ROOM', 'PRIVATE', 'BATHROOM']   -0.2144  0.287   \n",
       "26045  ['THE', 'GOOD', 'THE', 'BAD', 'THE', 'UGLY', '...   -0.8605  0.080   \n",
       "2661   ['VERY', 'CONVENIENT', 'CHECKINCHECKOUT', 'CLE...   -0.5498  0.096   \n",
       "3599   ['CHAIR', 'BROKEN', 'NEARY', 'BIG', 'ROAD', 'I...   -0.5859  0.324   \n",
       "19647  ['DEFINITELY', 'NOT', 'RECOMMEND', 'THE', 'PLA...   -0.9466  0.127   \n",
       "\n",
       "         neu    pos  bin bin_word  \n",
       "35678  0.572  0.151  2.0       QN  \n",
       "10259  0.778  0.084  3.0        N  \n",
       "24296  0.846  0.073  3.0        N  \n",
       "33730  0.735  0.114  2.0       QN  \n",
       "36714  0.846  0.000  3.0        N  \n",
       "...      ...    ...  ...      ...  \n",
       "12195  0.513  0.200  3.0        N  \n",
       "26045  0.856  0.064  1.0       VN  \n",
       "2661   0.853  0.051  2.0       QN  \n",
       "3599   0.676  0.000  2.0       QN  \n",
       "19647  0.839  0.033  1.0       VN  \n",
       "\n",
       "[36527 rows x 17 columns]>"
      ]
     },
     "execution_count": 22,
     "metadata": {},
     "output_type": "execute_result"
    }
   ],
   "source": [
    "negativeframe.head"
   ]
  },
  {
   "cell_type": "code",
   "execution_count": 23,
   "id": "1fcd9d2b",
   "metadata": {},
   "outputs": [
    {
     "data": {
      "text/plain": [
       "<bound method NDFrame.head of        Unnamed: 0  listing_id            id        date  reviewer_id  \\\n",
       "0               0     50646.0  1.190986e+07   18/4/2014    1356099.0   \n",
       "1               1     50646.0  1.382395e+07    5/6/2014   15222393.0   \n",
       "2               2     50646.0  1.511722e+07    2/7/2014    5543172.0   \n",
       "3               3     50646.0  1.542646e+07    8/7/2014     817532.0   \n",
       "4               4     50646.0  1.555291e+07   11/7/2014   10942382.0   \n",
       "...           ...         ...           ...         ...          ...   \n",
       "37347       43234  53388036.0  5.200000e+17  18/12/2021  304470840.0   \n",
       "37348       43235  53408171.0  5.210000e+17  19/12/2021  433426203.0   \n",
       "37349       43236  53614218.0  5.190000e+17  17/12/2021  107628510.0   \n",
       "37350       43237  53679344.0  5.160000e+17  13/12/2021  340715577.0   \n",
       "37351       43238  53717759.0  5.140000e+17  10/12/2021  192227309.0   \n",
       "\n",
       "      reviewer_name                                           comments  \\\n",
       "0             James  A COMFORTABLE ROOM IN A SMART CONDO DEVELOPMEN...   \n",
       "1             Welli  STAYED OVER AT SUJATHAS HOUSE FOR  GOOD NIGHTS...   \n",
       "2             Cyril  ITS BEEN A LOVELY STAY AT SUJATHAS THE ROOM IS...   \n",
       "3              Jake  WE HAD A GREAT EXPERIENCE A NICE PLACE AN AMAZ...   \n",
       "4             Subba     QUIET CONDO COMFORTABLE STAY AND GOOD LOCATION   \n",
       "...             ...                                                ...   \n",
       "37347           Lai  WEI IS AN AMAZING HOST QUICK RESPONSE FROM WEI...   \n",
       "37348        Prerna               EASY TO WORK WITH AND GOOD APARTMENT   \n",
       "37349        Fellix  THANK YOU LUCAS AND SANDY FOR HAVING ME SANDY ...   \n",
       "37350     Mark Roan  GREAT HOST AND AMAZING EXPERIENCE GOT THE ONE ...   \n",
       "37351       Zhengyi  VERY GOOD LOCATION HOWEVER NO AMENITIES LIKE B...   \n",
       "\n",
       "                                         comments_nostop  \\\n",
       "0      A COMFORTABLE ROOM SMART CONDO DEVELOPMENT EVE...   \n",
       "1      STAYED SUJATHAS HOUSE GOOD NIGHTS BOYFRIEND SU...   \n",
       "2      ITS LOVELY STAY SUJATHAS THE ROOM CLEAN LOCATI...   \n",
       "3      WE GREAT EXPERIENCE A NICE PLACE AMAZING COMPL...   \n",
       "4             QUIET CONDO COMFORTABLE STAY GOOD LOCATION   \n",
       "...                                                  ...   \n",
       "37347       WEI AMAZING HOST QUICK RESPONSE WEI HELPFUL    \n",
       "37348                           EASY WORK GOOD APARTMENT   \n",
       "37349  THANK LUCAS SANDY SANDY FRIENDLY HELPING QUEST...   \n",
       "37350  GREAT HOST AMAZING EXPERIENCE GOT ONE BEST DEA...   \n",
       "37351  VERY GOOD LOCATION HOWEVER AMENITIES LIKE BASI...   \n",
       "\n",
       "                                      comments_tokenized  \\\n",
       "0      ['A', 'COMFORTABLE', 'ROOM', 'SMART', 'CONDO',...   \n",
       "1      ['STAYED', 'SUJATHAS', 'HOUSE', 'GOOD', 'NIGHT...   \n",
       "2      ['ITS', 'LOVELY', 'STAY', 'SUJATHAS', 'THE', '...   \n",
       "3      ['WE', 'GREAT', 'EXPERIENCE', 'A', 'NICE', 'PL...   \n",
       "4      ['QUIET', 'CONDO', 'COMFORTABLE', 'STAY', 'GOO...   \n",
       "...                                                  ...   \n",
       "37347  ['WEI', 'AMAZING', 'HOST', 'QUICK', 'RESPONSE'...   \n",
       "37348              ['EASY', 'WORK', 'GOOD', 'APARTMENT']   \n",
       "37349  ['THANK', 'LUCAS', 'SANDY', 'SANDY', 'FRIENDLY...   \n",
       "37350  ['GREAT', 'HOST', 'AMAZING', 'EXPERIENCE', 'GO...   \n",
       "37351  ['VERY', 'GOOD', 'LOCATION', 'HOWEVER', 'AMENI...   \n",
       "\n",
       "                                                 stemmed  \\\n",
       "0      ['A', 'COMFORT', 'ROOM', 'SMART', 'CONDO', 'DE...   \n",
       "1      ['STAY', 'SUJATHA', 'HOUS', 'GOOD', 'NIGHT', '...   \n",
       "2      ['IT', 'LOVE', 'STAY', 'SUJATHA', 'THE', 'ROOM...   \n",
       "3      ['WE', 'GREAT', 'EXPERI', 'A', 'NICE', 'PLACE'...   \n",
       "4      ['QUIET', 'CONDO', 'COMFORT', 'STAY', 'GOOD', ...   \n",
       "...                                                  ...   \n",
       "37347  ['WEI', 'AMAZ', 'HOST', 'QUICK', 'RESPONS', 'W...   \n",
       "37348                  ['EASI', 'WORK', 'GOOD', 'APART']   \n",
       "37349  ['THANK', 'LUCA', 'SANDI', 'SANDI', 'FRIEND', ...   \n",
       "37350  ['GREAT', 'HOST', 'AMAZ', 'EXPERI', 'GOT', 'ON...   \n",
       "37351  ['VERI', 'GOOD', 'LOCAT', 'HOWEV', 'AMEN', 'LI...   \n",
       "\n",
       "                                              lemmatized  compound    neg  \\\n",
       "0      ['A', 'COMFORTABLE', 'ROOM', 'SMART', 'CONDO',...    0.9298  0.054   \n",
       "1      ['STAYED', 'SUJATHAS', 'HOUSE', 'GOOD', 'NIGHT...    0.9878  0.000   \n",
       "2      ['ITS', 'LOVELY', 'STAY', 'SUJATHAS', 'THE', '...    0.9627  0.000   \n",
       "3      ['WE', 'GREAT', 'EXPERIENCE', 'A', 'NICE', 'PL...    0.9274  0.000   \n",
       "4      ['QUIET', 'CONDO', 'COMFORTABLE', 'STAY', 'GOO...    0.7351  0.000   \n",
       "...                                                  ...       ...    ...   \n",
       "37347  ['WEI', 'AMAZING', 'HOST', 'QUICK', 'RESPONSE'...    0.7841  0.000   \n",
       "37348              ['EASY', 'WORK', 'GOOD', 'APARTMENT']    0.7003  0.000   \n",
       "37349  ['THANK', 'LUCAS', 'SANDY', 'SANDY', 'FRIENDLY...    0.9535  0.000   \n",
       "37350  ['GREAT', 'HOST', 'AMAZING', 'EXPERIENCE', 'GO...    0.9201  0.000   \n",
       "37351  ['VERY', 'GOOD', 'LOCATION', 'HOWEVER', 'AMENI...    0.3363  0.145   \n",
       "\n",
       "         neu    pos  bin bin_word  \n",
       "0      0.623  0.323  6.0       VP  \n",
       "1      0.613  0.387  6.0       VP  \n",
       "2      0.645  0.355  6.0       VP  \n",
       "3      0.489  0.511  6.0       VP  \n",
       "4      0.446  0.554  6.0       VP  \n",
       "...      ...    ...  ...      ...  \n",
       "37347  0.592  0.408  6.0       VP  \n",
       "37348  0.463  0.537  6.0       VP  \n",
       "37349  0.631  0.369  6.0       VP  \n",
       "37350  0.498  0.502  6.0       VP  \n",
       "37351  0.700  0.154  5.0       QP  \n",
       "\n",
       "[36527 rows x 17 columns]>"
      ]
     },
     "execution_count": 23,
     "metadata": {},
     "output_type": "execute_result"
    }
   ],
   "source": [
    "positiveframe.head"
   ]
  },
  {
   "cell_type": "code",
   "execution_count": 24,
   "id": "332143da",
   "metadata": {},
   "outputs": [],
   "source": [
    "pdList2 = [positiveframe,negativeframe] \n",
    "oversample_df = pd.concat(pdList2)\n",
    "oversample_df.head\n",
    "#export cleansed data\n",
    "oversample_df.to_csv('oversample.csv')"
   ]
  },
  {
   "cell_type": "code",
   "execution_count": 25,
   "id": "ae12fd81",
   "metadata": {},
   "outputs": [
    {
     "data": {
      "text/plain": [
       "1923"
      ]
     },
     "execution_count": 25,
     "metadata": {},
     "output_type": "execute_result"
    }
   ],
   "source": [
    "len(oversample_df['listing_id'].unique().tolist()) "
   ]
  },
  {
   "cell_type": "code",
   "execution_count": 26,
   "id": "f8fba91c",
   "metadata": {},
   "outputs": [],
   "source": [
    "##idlist\n",
    "temp = oversample_df.drop_duplicates(subset='listing_id')\n",
    "##\n",
    "iddataframe = temp['listing_id']\n",
    "iddataframe.to_csv('iddataframe.csv')"
   ]
  },
  {
   "cell_type": "code",
   "execution_count": 27,
   "id": "8175c1ee",
   "metadata": {},
   "outputs": [],
   "source": [
    "##finding all id that is in review to syn \n",
    "listingidremoval = pd.read_csv('5.listings.csv')"
   ]
  },
  {
   "cell_type": "code",
   "execution_count": 28,
   "id": "eb67c3da",
   "metadata": {},
   "outputs": [],
   "source": [
    "matching_id = listingidremoval['id'].isin(temp['listing_id']) \n",
    "listingidremoval = listingidremoval.loc[matching_id, :]"
   ]
  },
  {
   "cell_type": "code",
   "execution_count": 29,
   "id": "d99cb764",
   "metadata": {},
   "outputs": [],
   "source": [
    "listingidremoval #1923\n",
    "listingidremoval.to_csv('5.listing(alreadyremoveuselessidalr).csv')\n"
   ]
  }
 ],
 "metadata": {
  "kernelspec": {
   "display_name": "Python 3 (ipykernel)",
   "language": "python",
   "name": "python3"
  },
  "language_info": {
   "codemirror_mode": {
    "name": "ipython",
    "version": 3
   },
   "file_extension": ".py",
   "mimetype": "text/x-python",
   "name": "python",
   "nbconvert_exporter": "python",
   "pygments_lexer": "ipython3",
   "version": "3.9.7"
  }
 },
 "nbformat": 4,
 "nbformat_minor": 5
}
