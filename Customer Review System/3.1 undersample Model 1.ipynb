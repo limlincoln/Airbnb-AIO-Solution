{
 "cells": [
  {
   "cell_type": "code",
   "execution_count": 1,
   "id": "6d75a32e",
   "metadata": {},
   "outputs": [
    {
     "name": "stderr",
     "output_type": "stream",
     "text": [
      "[nltk_data] Downloading package stopwords to\n",
      "[nltk_data]     C:\\Users\\liang\\AppData\\Roaming\\nltk_data...\n",
      "[nltk_data]   Package stopwords is already up-to-date!\n"
     ]
    }
   ],
   "source": [
    "import numpy as np # linear algebra\n",
    "import pandas as pd # data processing\n",
    "import os\n",
    "\n",
    "#For Preprocessing\n",
    "import re    # RegEx for removing non-letter characters\n",
    "import nltk  #natural language processing\n",
    "nltk.download(\"stopwords\")\n",
    "from nltk.corpus import stopwords\n",
    "from nltk.stem.porter import *\n",
    "\n",
    "# For Building the model\n",
    "from sklearn.model_selection import train_test_split\n",
    "import tensorflow as tf\n",
    "import seaborn as sns\n",
    "\n",
    "#For data visualization\n",
    "import matplotlib.pyplot as plt\n",
    "import matplotlib.patches as mpatches\n",
    "%matplotlib inline\n",
    "\n",
    "pd.options.plotting.backend = \"plotly\""
   ]
  },
  {
   "cell_type": "code",
   "execution_count": 2,
   "id": "2bdae381",
   "metadata": {},
   "outputs": [],
   "source": [
    "#importing\n",
    "under_dataframe= pd.read_csv('undersample.csv')"
   ]
  },
  {
   "cell_type": "code",
   "execution_count": 3,
   "id": "8829d8c5",
   "metadata": {},
   "outputs": [
    {
     "data": {
      "text/plain": [
       "140"
      ]
     },
     "execution_count": 3,
     "metadata": {},
     "output_type": "execute_result"
    }
   ],
   "source": [
    "#Average length of each row 197.466\n",
    "under_dataframe.comments_nostop.str.len().mean()\n",
    "#Unique Word count 140\n",
    "_over_count = pd.Series(' '.join(under_dataframe['comments_nostop'] ).split()).value_counts()\n",
    "_over_count.nunique() "
   ]
  },
  {
   "cell_type": "code",
   "execution_count": 4,
   "id": "9029610f",
   "metadata": {},
   "outputs": [
    {
     "data": {
      "text/plain": [
       "<bound method NDFrame.head of       Unnamed: 0.1  Unnamed: 0  listing_id           id        date  \\\n",
       "0              181         200    294281.0   10617402.0   28/2/2014   \n",
       "1              184         203    294281.0   17017063.0    5/8/2014   \n",
       "2              244         271    294281.0  560200336.0   6/11/2019   \n",
       "3              434         479    369145.0    4995826.0    6/6/2013   \n",
       "4              457         503    369145.0   11639495.0   10/4/2014   \n",
       "...            ...         ...         ...          ...         ...   \n",
       "1645         17934       20857  14719882.0  242968565.0   14/3/2018   \n",
       "1646         34434       39898  39218665.0  574030421.0   7/12/2019   \n",
       "1647         34798       40323  40748069.0  734647552.0   27/2/2021   \n",
       "1648         18031       20970  15087980.0  120823689.0  11/12/2016   \n",
       "1649         33625       38989  36456243.0  596242192.0   22/1/2020   \n",
       "\n",
       "      reviewer_id  reviewer_name  \\\n",
       "0       1370876.0        Deborah   \n",
       "1      18295170.0            Zhi   \n",
       "2      15080620.0         Pierre   \n",
       "3       1957292.0    Will And Fi   \n",
       "4       9008827.0        Maturos   \n",
       "...           ...            ...   \n",
       "1645  103072258.0             吉庆   \n",
       "1646  242705017.0          Ruoqi   \n",
       "1647  385795612.0             Yi   \n",
       "1648   63032084.0          Piara   \n",
       "1649  163900118.0  Justine Chang   \n",
       "\n",
       "                                               comments  \\\n",
       "0     WE NEVER SAW ANY HOST ELISABETH HASNT BEEN THE...   \n",
       "1     TERRIBLE TERRIBLE LANDLORD THE LANDLORD ELISAB...   \n",
       "2     ALL I HAVE TO SAY ABOUT MY STAY HAS BEEN SAID ...   \n",
       "3     THE LOCATION IS QUITE GOOD AS ADVERTISED ITS A...   \n",
       "4     THE MOST TERRIBLE TRAVEL EXPERIENCE IN MY LIFE...   \n",
       "...                                                 ...   \n",
       "1645  THE TRANSPORTATION IS VERY CONVENIENT THE ACCO...   \n",
       "1646  ITS A FANTASTIC EXPERIENCE TO BE LIVING IN THE...   \n",
       "1647          NICE PLACE TO LIVE IN SG HIGHLY RECOMMEND   \n",
       "1648  THE DESCRIPTION OF THE ACCOMMODATION WAS VERY ...   \n",
       "1649  VERY FRIENDLY HOST CLEAN ENVIRONMENT VERY CONV...   \n",
       "\n",
       "                                        comments_nostop  \\\n",
       "0     WE NEVER SAW HOST ELISABETH HASNT MONTHS MONTH...   \n",
       "1     TERRIBLE TERRIBLE LANDLORD THE LANDLORD ELISAB...   \n",
       "2     ALL I SAY STAY SAID NEGATIVE REVIEWS I FOUNDI ...   \n",
       "3     THE LOCATION QUITE GOOD AS ADVERTISED SHORT WA...   \n",
       "4     THE TERRIBLE TRAVEL EXPERIENCE LIFE THE ROOM W...   \n",
       "...                                                 ...   \n",
       "1645  THE TRANSPORTATION CONVENIENT ACCOMMODATION GO...   \n",
       "1646  ITS FANTASTIC EXPERIENCE LIVING WHITE CASTLE S...   \n",
       "1647                NICE PLACE LIVE SG HIGHLY RECOMMEND   \n",
       "1648  THE DESCRIPTION ACCOMMODATION ACCURATE IT FANT...   \n",
       "1649  VERY FRIENDLY HOST CLEAN ENVIRONMENT VERY CONV...   \n",
       "\n",
       "                                     comments_tokenized  \\\n",
       "0     ['WE', 'NEVER', 'SAW', 'HOST', 'ELISABETH', 'H...   \n",
       "1     ['TERRIBLE', 'TERRIBLE', 'LANDLORD', 'THE', 'L...   \n",
       "2     ['ALL', 'I', 'SAY', 'STAY', 'SAID', 'NEGATIVE'...   \n",
       "3     ['THE', 'LOCATION', 'QUITE', 'GOOD', 'AS', 'AD...   \n",
       "4     ['THE', 'TERRIBLE', 'TRAVEL', 'EXPERIENCE', 'L...   \n",
       "...                                                 ...   \n",
       "1645  ['THE', 'TRANSPORTATION', 'CONVENIENT', 'ACCOM...   \n",
       "1646  ['ITS', 'FANTASTIC', 'EXPERIENCE', 'LIVING', '...   \n",
       "1647  ['NICE', 'PLACE', 'LIVE', 'SG', 'HIGHLY', 'REC...   \n",
       "1648  ['THE', 'DESCRIPTION', 'ACCOMMODATION', 'ACCUR...   \n",
       "1649  ['VERY', 'FRIENDLY', 'HOST', 'CLEAN', 'ENVIRON...   \n",
       "\n",
       "                                                stemmed  \\\n",
       "0     ['WE', 'NEVER', 'SAW', 'HOST', 'ELISABETH', 'H...   \n",
       "1     ['TERRIBL', 'TERRIBL', 'LANDLORD', 'THE', 'LAN...   \n",
       "2     ['ALL', 'I', 'SAY', 'STAY', 'SAID', 'NEGAT', '...   \n",
       "3     ['THE', 'LOCAT', 'QUIT', 'GOOD', 'AS', 'ADVERT...   \n",
       "4     ['THE', 'TERRIBL', 'TRAVEL', 'EXPERI', 'LIFE',...   \n",
       "...                                                 ...   \n",
       "1645  ['THE', 'TRANSPORT', 'CONVENI', 'ACCOMMOD', 'G...   \n",
       "1646  ['IT', 'FANTAST', 'EXPERI', 'LIVE', 'WHITE', '...   \n",
       "1647  ['NICE', 'PLACE', 'LIVE', 'SG', 'HIGH', 'RECOM...   \n",
       "1648  ['THE', 'DESCRIPT', 'ACCOMMOD', 'ACCUR', 'IT',...   \n",
       "1649  ['VERI', 'FRIEND', 'HOST', 'CLEAN', 'ENVIRON',...   \n",
       "\n",
       "                                             lemmatized  compound    neg  \\\n",
       "0     ['WE', 'NEVER', 'SAW', 'HOST', 'ELISABETH', 'H...   -0.7144  0.073   \n",
       "1     ['TERRIBLE', 'TERRIBLE', 'LANDLORD', 'THE', 'L...   -0.9825  0.166   \n",
       "2     ['ALL', 'I', 'SAY', 'STAY', 'SAID', 'NEGATIVE'...   -0.9445  0.114   \n",
       "3     ['THE', 'LOCATION', 'QUITE', 'GOOD', 'AS', 'AD...   -0.9587  0.125   \n",
       "4     ['THE', 'TERRIBLE', 'TRAVEL', 'EXPERIENCE', 'L...   -0.8385  0.082   \n",
       "...                                                 ...       ...    ...   \n",
       "1645  ['THE', 'TRANSPORTATION', 'CONVENIENT', 'ACCOM...    0.7501  0.000   \n",
       "1646  ['ITS', 'FANTASTIC', 'EXPERIENCE', 'LIVING', '...    0.9788  0.000   \n",
       "1647  ['NICE', 'PLACE', 'LIVE', 'SG', 'HIGHLY', 'REC...    0.6801  0.000   \n",
       "1648  ['THE', 'DESCRIPTION', 'ACCOMMODATION', 'ACCUR...    0.8020  0.000   \n",
       "1649  ['VERY', 'FRIENDLY', 'HOST', 'CLEAN', 'ENVIRON...    0.7548  0.000   \n",
       "\n",
       "        neu    pos  bin bin_word  \n",
       "0     0.885  0.042  1.0       VN  \n",
       "1     0.797  0.037  1.0       VN  \n",
       "2     0.816  0.070  1.0       VN  \n",
       "3     0.797  0.078  1.0       VN  \n",
       "4     0.871  0.047  1.0       VN  \n",
       "...     ...    ...  ...      ...  \n",
       "1645  0.748  0.252  6.0       VP  \n",
       "1646  0.595  0.405  6.0       VP  \n",
       "1647  0.518  0.482  6.0       VP  \n",
       "1648  0.675  0.325  6.0       VP  \n",
       "1649  0.582  0.418  6.0       VP  \n",
       "\n",
       "[1650 rows x 18 columns]>"
      ]
     },
     "execution_count": 4,
     "metadata": {},
     "output_type": "execute_result"
    }
   ],
   "source": [
    "under_dataframe.head"
   ]
  },
  {
   "cell_type": "code",
   "execution_count": 5,
   "id": "90afed31",
   "metadata": {},
   "outputs": [],
   "source": [
    "def tweet_to_words(comment):\n",
    "    ''' Convert tweet text into a sequence of words '''\n",
    "    # convert to lowercase\n",
    "    text = comment.lower()\n",
    "    # tokenize\n",
    "    words = text.split()\n",
    "    # apply stemming\n",
    "    words = [PorterStemmer().stem(w) for w in words]\n",
    "    # return list\n",
    "    return words\n"
   ]
  },
  {
   "cell_type": "code",
   "execution_count": 6,
   "id": "27b37012",
   "metadata": {},
   "outputs": [],
   "source": [
    "X = list(map(tweet_to_words, under_dataframe['comments_nostop']))"
   ]
  },
  {
   "cell_type": "code",
   "execution_count": 7,
   "id": "42890971",
   "metadata": {},
   "outputs": [],
   "source": [
    "from sklearn.preprocessing import LabelEncoder\n",
    "# Encode target labels\n",
    "le = LabelEncoder()\n",
    "Y = le.fit_transform(under_dataframe['bin_word'])"
   ]
  },
  {
   "cell_type": "code",
   "execution_count": 8,
   "id": "51cf4d5b",
   "metadata": {},
   "outputs": [
    {
     "name": "stdout",
     "output_type": "stream",
     "text": [
      "['we', 'never', 'saw', 'host', 'elisabeth', 'hasnt', 'month', 'month', 'come', 'accord', 'info', 'receiv', 'phone', 'arriv', 'we', 'spoke', 'person', 'phone', 'airport', 'told', 'us', 'key', 'would', 'mat', 'togeth', 'key', 'guest', 'the', 'place', 'quit', 'filthi', 'dirti', 'shoe', 'sink', 'empti', 'wine', 'bottl', 'room', 'hole', 'sheet', 'everyth', 'cover', 'grime', 'we', 'decid', 'certainli', 'couldnt', 'cook', 'it', 'appear', 'simpli', 'board', 'hous', 'peopl', 'stay', 'check', 'earli', 'none', 'us', 'ever', 'saw', 'host', 'the', 'spirit', 'airbnb', 'stay', 'local', 'famili', 'provid', 'local', 'knowledg', 'certainli', 'absent', 'the', 'locat', 'min', 'walk', 'mrt', 'subway', 'one', 'cross', 'busi', 'highway', 'onc', 'mrt', 'everyth', 'easili', 'reachabl', 'of', 'mani', 'airbnb', 'experi', 'seriou', 'disappoint', 'i', 'would', 'stay', 'cant', 'recommend', 'anyon']\n",
      "4\n"
     ]
    }
   ],
   "source": [
    "print(X[0])\n",
    "print(Y[0])"
   ]
  },
  {
   "cell_type": "code",
   "execution_count": 9,
   "id": "37ca2ea9",
   "metadata": {},
   "outputs": [],
   "source": [
    "y = pd.get_dummies(under_dataframe['bin_word'])\n",
    "X_train, X_test, y_train, y_test = train_test_split(X, y, test_size=0.2, random_state=1)\n",
    "X_train, X_val, y_train, y_val = train_test_split(X_train, y_train, test_size=0.25, random_state=1)"
   ]
  },
  {
   "cell_type": "code",
   "execution_count": 10,
   "id": "75653984",
   "metadata": {},
   "outputs": [],
   "source": [
    "from sklearn.feature_extraction.text import CountVectorizer\n",
    "#from sklearn.feature_extraction.text import TfidfVectorizer\n",
    "vocabulary_size = 80\n",
    "#  have already been preprocessed hence dummy function will be passed in \n",
    "# to preprocessor & tokenizer step\n",
    "count_vector = CountVectorizer(max_features=vocabulary_size,\n",
    "#                               ngram_range=(1,2),    # unigram and bigram\n",
    "                                preprocessor=lambda x: x,\n",
    "                               tokenizer=lambda x: x) \n",
    "#tfidf_vector = TfidfVectorizer(lowercase=True, stop_words='english')\n",
    "\n",
    "# Fit the training data\n",
    "X_train = count_vector.fit_transform(X_train).toarray()\n",
    "\n",
    "# Transform testing data\n",
    "X_test = count_vector.transform(X_test).toarray()"
   ]
  },
  {
   "cell_type": "code",
   "execution_count": 11,
   "id": "84a86bf8",
   "metadata": {},
   "outputs": [
    {
     "name": "stdout",
     "output_type": "stream",
     "text": [
      "['airbnb', 'also', 'apart', 'area', 'around', 'bad', 'bathroom', 'bed', 'bit', 'book', 'bu', 'but', 'check', 'clean', 'close', 'comfort', 'conveni', 'day', 'didnt', 'dont']\n"
     ]
    },
    {
     "name": "stderr",
     "output_type": "stream",
     "text": [
      "C:\\Users\\liang\\anaconda3\\envs\\tf-gpu\\lib\\site-packages\\sklearn\\utils\\deprecation.py:87: FutureWarning: Function get_feature_names is deprecated; get_feature_names is deprecated in 1.0 and will be removed in 1.2. Please use get_feature_names_out instead.\n",
      "  warnings.warn(msg, category=FutureWarning)\n"
     ]
    }
   ],
   "source": [
    "print(count_vector.get_feature_names()[0:20])"
   ]
  },
  {
   "cell_type": "code",
   "execution_count": 12,
   "id": "af5da328",
   "metadata": {},
   "outputs": [
    {
     "data": {
      "image/png": "[encoded data removed]",
      "text/plain": [
       "<Figure size 432x288 with 1 Axes>"
      ]
     },
     "metadata": {
      "needs_background": "light"
     },
     "output_type": "display_data"
    }
   ],
   "source": [
    "# Plot the BoW feature vector\n",
    "plt.plot(X_train[2,:])\n",
    "plt.xlabel('Word')\n",
    "plt.ylabel('Count')\n",
    "plt.show()"
   ]
  },
  {
   "cell_type": "code",
   "execution_count": 13,
   "id": "d9e930cf",
   "metadata": {},
   "outputs": [
    {
     "name": "stdout",
     "output_type": "stream",
     "text": [
      "Before Tokenization & Padding \n",
      " WE NEVER SAW HOST ELISABETH HASNT MONTHS MONTHS COME ACCORDING INFO RECEIVED PHONE ARRIVAL WE SPOKE PERSON PHONE AIRPORT TOLD US KEY WOULD MAT TOGETHER KEYS GUESTS THE PLACE QUITE FILTHY DIRTY SHOES SINK EMPTY WINE BOTTLES ROOM HOLES SHEETS EVERYTHING COVERED GRIME WE DECIDED CERTAINLY COULDNT COOK IT APPEARS SIMPLY BOARDING HOUSE PEOPLE STAYED CHECKED EARLY NONE US EVER SAW HOST THE SPIRIT AIRBNB STAY LOCAL FAMILIES PROVIDE LOCAL KNOWLEDGE CERTAINLY ABSENT THE LOCATION MIN WALK MRT SUBWAY ONE CROSS BUSY HIGHWAYS ONCE MRT EVERYTHING EASILY REACHABLE OF MANY AIRBNB EXPERIENCES SERIOUS DISAPPOINTMENT I WOULD STAY CANT RECOMMEND ANYONE\n",
      "After Tokenization & Padding \n",
      " [16  8 16 19 18  2  4 59 73  3 67 16 21 29 44 19  8  2 22  5  2  7 39 13\n",
      " 12 13 67 22  1 18  5 57  0  0  0  0  0  0  0  0  0  0  0  0  0  0  0  0\n",
      "  0  0  0  0  0  0  0  0  0  0  0  0  0  0  0  0  0  0  0  0  0  0  0  0\n",
      "  0  0  0  0  0  0  0  0  0  0  0  0  0  0  0  0  0  0  0  0  0  0  0  0\n",
      "  0  0  0  0  0  0  0  0  0  0  0  0  0  0  0  0  0  0  0  0  0  0  0  0\n",
      "  0  0  0  0  0  0  0  0  0  0  0  0  0  0  0  0  0  0  0  0  0  0  0  0\n",
      "  0  0  0  0  0  0  0  0  0  0  0  0  0  0  0  0  0  0  0  0  0  0  0  0\n",
      "  0  0  0  0  0  0  0  0  0  0  0  0  0  0  0  0  0  0  0  0  0  0  0  0\n",
      "  0  0  0  0  0  0  0  0]\n"
     ]
    }
   ],
   "source": [
    "from keras.preprocessing.text import Tokenizer\n",
    "from keras.preprocessing.sequence import pad_sequences\n",
    "\n",
    "max_words = 80\n",
    "max_len= 200\n",
    "\n",
    "def tokenize_pad_sequences(text):\n",
    "    '''\n",
    "    This function tokenize the input text into sequnences of intergers and then\n",
    "    pad each sequence to the same length\n",
    "    '''\n",
    "    # Text tokenization\n",
    "    tokenizer = Tokenizer(num_words=max_words, lower=True, split=' ')\n",
    "    tokenizer.fit_on_texts(text)\n",
    "    # Transforms text to a sequence of integers\n",
    "    X = tokenizer.texts_to_sequences(text)\n",
    "    # Pad sequences to the same length\n",
    "    X = pad_sequences(X, padding='post', maxlen=max_len)\n",
    "    # return sequences\n",
    "    return X, tokenizer\n",
    "\n",
    "print('Before Tokenization & Padding \\n', under_dataframe['comments_nostop'][0])\n",
    "X, tokenizer = tokenize_pad_sequences(under_dataframe['comments_nostop'])\n",
    "print('After Tokenization & Padding \\n', X[0])"
   ]
  },
  {
   "cell_type": "code",
   "execution_count": 14,
   "id": "1d7d1e9e",
   "metadata": {},
   "outputs": [],
   "source": [
    "import pickle\n",
    "\n",
    "# saving\n",
    "with open('tokenizer.pickle', 'wb') as handle:\n",
    "    pickle.dump(tokenizer, handle, protocol=pickle.HIGHEST_PROTOCOL)\n",
    "\n",
    "# loading\n",
    "with open('tokenizer.pickle', 'rb') as handle:\n",
    "    tokenizer = pickle.load(handle)"
   ]
  },
  {
   "cell_type": "code",
   "execution_count": 15,
   "id": "dd99878c",
   "metadata": {},
   "outputs": [
    {
     "name": "stdout",
     "output_type": "stream",
     "text": [
      "Train Set -> (990, 200) (990, 6)\n",
      "Validation Set -> (330, 200) (330, 6)\n",
      "Test Set -> (330, 200) (330, 6)\n"
     ]
    }
   ],
   "source": [
    "y = pd.get_dummies(under_dataframe['bin_word'])\n",
    "X_train, X_test, y_train, y_test = train_test_split(X, y, test_size=0.2, random_state=1)\n",
    "X_train, X_val, y_train, y_val = train_test_split(X_train, y_train, test_size=0.25, random_state=1)\n",
    "print('Train Set ->', X_train.shape, y_train.shape)\n",
    "print('Validation Set ->', X_val.shape, y_val.shape)\n",
    "print('Test Set ->', X_test.shape, y_test.shape)"
   ]
  },
  {
   "cell_type": "code",
   "execution_count": 16,
   "id": "cf2b8660",
   "metadata": {},
   "outputs": [],
   "source": [
    "back_up_X_train = X_train\n",
    "back_up_y_train =  y_train\n",
    "back_up_X_test =  X_test\n",
    "back_up_y_test = y_test"
   ]
  },
  {
   "cell_type": "code",
   "execution_count": 17,
   "id": "c076a87d",
   "metadata": {},
   "outputs": [],
   "source": [
    "import keras.backend as K\n",
    "\n",
    "def f1_score(precision, recall):\n",
    "    ''' Function to calculate f1 score '''\n",
    "    \n",
    "    f1_val = 2*(precision*recall)/(precision+recall+K.epsilon())\n",
    "    return f1_val"
   ]
  },
  {
   "cell_type": "code",
   "execution_count": 18,
   "id": "b044f59f",
   "metadata": {},
   "outputs": [
    {
     "name": "stderr",
     "output_type": "stream",
     "text": [
      "C:\\Users\\liang\\anaconda3\\envs\\tf-gpu\\lib\\site-packages\\keras\\optimizer_v2\\optimizer_v2.py:355: UserWarning: The `lr` argument is deprecated, use `learning_rate` instead.\n",
      "  warnings.warn(\n"
     ]
    }
   ],
   "source": [
    "from keras.models import Sequential\n",
    "from keras.layers import Embedding, Conv1D, MaxPooling1D, Bidirectional, LSTM, Dense, Dropout\n",
    "from keras.metrics import Precision, Recall\n",
    "from tensorflow.keras.optimizers import SGD\n",
    "from tensorflow.keras.optimizers  import RMSprop\n",
    "from keras import datasets\n",
    "\n",
    "from keras.callbacks import LearningRateScheduler\n",
    "from keras.callbacks import History\n",
    "\n",
    "from keras import losses\n",
    "\n",
    "vocab_size = 80\n",
    "embedding_size = 32\n",
    "epochs= 20\n",
    "learning_rate = 0.1\n",
    "decay_rate = learning_rate / epochs\n",
    "momentum = 0.8\n",
    "\n",
    "sgd = SGD(lr=learning_rate, momentum=momentum, decay=decay_rate, nesterov=False)\n",
    "# Build model\n",
    "model= Sequential()\n",
    "model.add(Embedding(vocab_size, embedding_size, input_length=max_len))\n",
    "model.add(Conv1D(filters=32, kernel_size=6, padding='same', activation='relu'))\n",
    "model.add(MaxPooling1D(pool_size=2))\n",
    "model.add(Bidirectional(LSTM(32)))\n",
    "model.add(Dropout(0.4))\n",
    "model.add(Dense(6, activation='softmax'))"
   ]
  },
  {
   "cell_type": "code",
   "execution_count": 19,
   "id": "a9eeeb01",
   "metadata": {},
   "outputs": [
    {
     "name": "stdout",
     "output_type": "stream",
     "text": [
      "('You must install pydot (`pip install pydot`) and install graphviz (see instructions at https://graphviz.gitlab.io/download/) ', 'for plot_model/model_to_dot to work.')\n"
     ]
    }
   ],
   "source": [
    "import tensorflow as tf\n",
    "tf.keras.utils.plot_model(model, show_shapes=True)"
   ]
  },
  {
   "cell_type": "code",
   "execution_count": 20,
   "id": "d0151478",
   "metadata": {},
   "outputs": [
    {
     "name": "stdout",
     "output_type": "stream",
     "text": [
      "Model: \"sequential\"\n",
      "_________________________________________________________________\n",
      "Layer (type)                 Output Shape              Param #   \n",
      "=================================================================\n",
      "embedding (Embedding)        (None, 200, 32)           2560      \n",
      "_________________________________________________________________\n",
      "conv1d (Conv1D)              (None, 200, 32)           6176      \n",
      "_________________________________________________________________\n",
      "max_pooling1d (MaxPooling1D) (None, 100, 32)           0         \n",
      "_________________________________________________________________\n",
      "bidirectional (Bidirectional (None, 64)                16640     \n",
      "_________________________________________________________________\n",
      "dropout (Dropout)            (None, 64)                0         \n",
      "_________________________________________________________________\n",
      "dense (Dense)                (None, 6)                 390       \n",
      "=================================================================\n",
      "Total params: 25,766\n",
      "Trainable params: 25,766\n",
      "Non-trainable params: 0\n",
      "_________________________________________________________________\n",
      "None\n",
      "Epoch 1/20\n",
      "62/62 [==============================] - 8s 36ms/step - loss: 1.7866 - accuracy: 0.2162 - precision: 0.0000e+00 - recall: 0.0000e+00 - val_loss: 1.7931 - val_accuracy: 0.1788 - val_precision: 0.0000e+00 - val_recall: 0.0000e+00\n",
      "Epoch 2/20\n",
      "62/62 [==============================] - 1s 19ms/step - loss: 1.7080 - accuracy: 0.2505 - precision: 0.5000 - recall: 0.0030 - val_loss: 1.6880 - val_accuracy: 0.2515 - val_precision: 0.0000e+00 - val_recall: 0.0000e+00\n",
      "Epoch 3/20\n",
      "62/62 [==============================] - 1s 19ms/step - loss: 1.6695 - accuracy: 0.2677 - precision: 0.5000 - recall: 0.0081 - val_loss: 1.7110 - val_accuracy: 0.2364 - val_precision: 0.5385 - val_recall: 0.0212\n",
      "Epoch 4/20\n",
      "62/62 [==============================] - 1s 19ms/step - loss: 1.6527 - accuracy: 0.2697 - precision: 0.6071 - recall: 0.0172 - val_loss: 1.6981 - val_accuracy: 0.2455 - val_precision: 0.8571 - val_recall: 0.0182\n",
      "Epoch 5/20\n",
      "62/62 [==============================] - 1s 19ms/step - loss: 1.6365 - accuracy: 0.2778 - precision: 0.5641 - recall: 0.0222 - val_loss: 1.6726 - val_accuracy: 0.2606 - val_precision: 0.6667 - val_recall: 0.0303\n",
      "Epoch 6/20\n",
      "62/62 [==============================] - 1s 19ms/step - loss: 1.6291 - accuracy: 0.3000 - precision: 0.5714 - recall: 0.0202 - val_loss: 1.6609 - val_accuracy: 0.2515 - val_precision: 0.6667 - val_recall: 0.0424\n",
      "Epoch 7/20\n",
      "62/62 [==============================] - 1s 19ms/step - loss: 1.6149 - accuracy: 0.2970 - precision: 0.5556 - recall: 0.0202 - val_loss: 1.6535 - val_accuracy: 0.2818 - val_precision: 0.7143 - val_recall: 0.0455\n",
      "Epoch 8/20\n",
      "62/62 [==============================] - 1s 18ms/step - loss: 1.5978 - accuracy: 0.3081 - precision: 0.5614 - recall: 0.0323 - val_loss: 1.7203 - val_accuracy: 0.2333 - val_precision: 0.9000 - val_recall: 0.0273\n",
      "Epoch 9/20\n",
      "62/62 [==============================] - 1s 18ms/step - loss: 1.5929 - accuracy: 0.3202 - precision: 0.6316 - recall: 0.0364 - val_loss: 1.6322 - val_accuracy: 0.3091 - val_precision: 0.5862 - val_recall: 0.0515\n",
      "Epoch 10/20\n",
      "62/62 [==============================] - 1s 19ms/step - loss: 1.5726 - accuracy: 0.3222 - precision: 0.6935 - recall: 0.0434 - val_loss: 1.6425 - val_accuracy: 0.2455 - val_precision: 0.7692 - val_recall: 0.0303\n",
      "Epoch 11/20\n",
      "62/62 [==============================] - 1s 18ms/step - loss: 1.5630 - accuracy: 0.3364 - precision: 0.6719 - recall: 0.0434 - val_loss: 1.6219 - val_accuracy: 0.2879 - val_precision: 0.6800 - val_recall: 0.0515\n",
      "Epoch 12/20\n",
      "62/62 [==============================] - 1s 19ms/step - loss: 1.5530 - accuracy: 0.3333 - precision: 0.5844 - recall: 0.0455 - val_loss: 1.6268 - val_accuracy: 0.3121 - val_precision: 0.7222 - val_recall: 0.0394\n",
      "Epoch 13/20\n",
      "62/62 [==============================] - 1s 19ms/step - loss: 1.5482 - accuracy: 0.3404 - precision: 0.6438 - recall: 0.0475 - val_loss: 1.6160 - val_accuracy: 0.3030 - val_precision: 0.6800 - val_recall: 0.0515\n",
      "Epoch 14/20\n",
      "62/62 [==============================] - 1s 19ms/step - loss: 1.5235 - accuracy: 0.3556 - precision: 0.6393 - recall: 0.0394 - val_loss: 1.6584 - val_accuracy: 0.2818 - val_precision: 0.7692 - val_recall: 0.0303\n",
      "Epoch 15/20\n",
      "62/62 [==============================] - 1s 19ms/step - loss: 1.5304 - accuracy: 0.3657 - precision: 0.5867 - recall: 0.0444 - val_loss: 1.6327 - val_accuracy: 0.2848 - val_precision: 0.7857 - val_recall: 0.0333\n",
      "Epoch 16/20\n",
      "62/62 [==============================] - 1s 19ms/step - loss: 1.5184 - accuracy: 0.3505 - precision: 0.6250 - recall: 0.0455 - val_loss: 1.6452 - val_accuracy: 0.2727 - val_precision: 0.7692 - val_recall: 0.0303\n",
      "Epoch 17/20\n",
      "62/62 [==============================] - 1s 19ms/step - loss: 1.5007 - accuracy: 0.3657 - precision: 0.6515 - recall: 0.0434 - val_loss: 1.6045 - val_accuracy: 0.2818 - val_precision: 0.7059 - val_recall: 0.0364\n",
      "Epoch 18/20\n",
      "62/62 [==============================] - 1s 18ms/step - loss: 1.4960 - accuracy: 0.3657 - precision: 0.6234 - recall: 0.0485 - val_loss: 1.6383 - val_accuracy: 0.2879 - val_precision: 0.8333 - val_recall: 0.0303\n",
      "Epoch 19/20\n",
      "62/62 [==============================] - 1s 19ms/step - loss: 1.4929 - accuracy: 0.3717 - precision: 0.6098 - recall: 0.0505 - val_loss: 1.6081 - val_accuracy: 0.2909 - val_precision: 0.6875 - val_recall: 0.0333\n",
      "Epoch 20/20\n",
      "62/62 [==============================] - 1s 19ms/step - loss: 1.4588 - accuracy: 0.3939 - precision: 0.6500 - recall: 0.0525 - val_loss: 1.6009 - val_accuracy: 0.2848 - val_precision: 0.7059 - val_recall: 0.0364\n"
     ]
    }
   ],
   "source": [
    "print(model.summary())\n",
    "\n",
    "# Compile model\n",
    "model.compile(loss='categorical_crossentropy', optimizer=sgd, \n",
    "               metrics=['accuracy', Precision(), Recall()])\n",
    "\n",
    "# Train model\n",
    "\n",
    "batch_size = 16\n",
    "history = model.fit(X_train, y_train,\n",
    "                      validation_data=(X_val, y_val),\n",
    "                      batch_size=batch_size, epochs=epochs, verbose=1)"
   ]
  },
  {
   "cell_type": "code",
   "execution_count": 21,
   "id": "ddfa38ab",
   "metadata": {},
   "outputs": [
    {
     "name": "stdout",
     "output_type": "stream",
     "text": [
      "\n",
      "Accuracy  : 0.3424\n",
      "Precision : 0.6875\n",
      "Recall    : 0.0333\n",
      "F1 Score  : 0.0636\n"
     ]
    }
   ],
   "source": [
    "# Evaluate model on the test set\n",
    "loss, accuracy, precision, recall = model.evaluate(X_test, y_test, verbose=0)\n",
    "# Print metrics\n",
    "print('')\n",
    "print('Accuracy  : {:.4f}'.format(accuracy))\n",
    "print('Precision : {:.4f}'.format(precision))\n",
    "print('Recall    : {:.4f}'.format(recall))\n",
    "print('F1 Score  : {:.4f}'.format(f1_score(precision, recall)))"
   ]
  },
  {
   "cell_type": "code",
   "execution_count": 22,
   "id": "f2e45637",
   "metadata": {},
   "outputs": [
    {
     "data": {
      "image/png": "[encoded data removed]",
      "text/plain": [
       "<Figure size 720x288 with 2 Axes>"
      ]
     },
     "metadata": {
      "needs_background": "light"
     },
     "output_type": "display_data"
    }
   ],
   "source": [
    "def plot_training_hist(history):\n",
    "    '''Function to plot history for accuracy and loss'''\n",
    "    \n",
    "    fig, ax = plt.subplots(1, 2, figsize=(10,4))\n",
    "    # first plot\n",
    "    ax[0].plot(history.history['accuracy'])\n",
    "    ax[0].plot(history.history['val_accuracy'])\n",
    "    ax[0].set_title('Model Accuracy')\n",
    "    ax[0].set_xlabel('epoch')\n",
    "    ax[0].set_ylabel('accuracy')\n",
    "    ax[0].legend(['train', 'validation'], loc='best')\n",
    "    # second plot\n",
    "    ax[1].plot(history.history['loss'])\n",
    "    ax[1].plot(history.history['val_loss'])\n",
    "    ax[1].set_title('Model Loss')\n",
    "    ax[1].set_xlabel('epoch')\n",
    "    ax[1].set_ylabel('loss')\n",
    "    ax[1].legend(['train', 'validation'], loc='best')\n",
    "    \n",
    "plot_training_hist(history)"
   ]
  },
  {
   "cell_type": "code",
   "execution_count": 23,
   "id": "486eb452",
   "metadata": {},
   "outputs": [
    {
     "data": {
      "image/png": "[encoded data removed]",
      "text/plain": [
       "<Figure size 576x432 with 2 Axes>"
      ]
     },
     "metadata": {
      "needs_background": "light"
     },
     "output_type": "display_data"
    }
   ],
   "source": [
    "from sklearn.metrics import confusion_matrix\n",
    "\n",
    "def plot_confusion_matrix(model, X_test, y_test):\n",
    "    '''Function to plot confusion matrix for the passed model and the data'''\n",
    "    sentiment_classes = ['N', 'P', 'QN','QP','VN','VP']\n",
    "    # use model to do the prediction\n",
    "    y_pred = model.predict(X_test)\n",
    "    # compute confusion matrix\n",
    "    cm = confusion_matrix(np.argmax(np.array(y_test),axis=1), np.argmax(y_pred, axis=1))\n",
    "    # plot confusion matrix\n",
    "    plt.figure(figsize=(8,6))\n",
    "    sns.heatmap(cm, cmap=plt.cm.Blues, annot=True, fmt='d', \n",
    "                xticklabels=sentiment_classes,\n",
    "                yticklabels=sentiment_classes)\n",
    "    plt.title('Confusion matrix', fontsize=16)\n",
    "    plt.xlabel('Actual label', fontsize=12)\n",
    "    plt.ylabel('Predicted label', fontsize=12)\n",
    "    \n",
    "plot_confusion_matrix(model, X_test, y_test)"
   ]
  }
 ],
 "metadata": {
  "kernelspec": {
   "display_name": "Python 3 (ipykernel)",
   "language": "python",
   "name": "python3"
  },
  "language_info": {
   "codemirror_mode": {
    "name": "ipython",
    "version": 3
   },
   "file_extension": ".py",
   "mimetype": "text/x-python",
   "name": "python",
   "nbconvert_exporter": "python",
   "pygments_lexer": "ipython3",
   "version": "3.9.7"
  }
 },
 "nbformat": 4,
 "nbformat_minor": 5
}
