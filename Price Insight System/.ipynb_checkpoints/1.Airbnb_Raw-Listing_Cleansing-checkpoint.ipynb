{
 "cells": [
  {
   "cell_type": "markdown",
   "id": "e911adfd",
   "metadata": {},
   "source": [
    "## Group 6\n",
    "\n",
    "#### Hi! My group consists of me, Lincoln and Leong Seng. This is a write-up of our data science project for SC1015 Introduction to Data Science & Artificial Intelligence. \n",
    "\n",
    "#### Nowadays, data are being produced in an enormous amount. With the vast data available, these data can be collected, allowing us to make meaningful decisions by infering from the results of our analysis. With this vast amount of data and it's constant increase, visualization tools enable us to deliver our message to our audience and inform them about our findings.\n",
    "\n",
    "#### Several varaiable have missing/nan variable, they are replace with certain methods\n",
    "__new_host_acceptance_rate is replace to 0 if and only if 'number_of_reviews' are 0__\n",
    "__new_host_acceptance_rate NaN value are replace with mean with review is not 0__\n",
    "\n",
    "\n",
    "#### We will be exploring and visualizing the dataset from Airbnb in Singapore using exploratory data analysis techiques. Follow my group as we find out the distribution of every Airbnb listing based on the price range, room type, review, and other related factors."
   ]
  },
  {
   "cell_type": "markdown",
   "id": "4dc4f79b",
   "metadata": {},
   "source": [
    "### What is Exploratory Data Analysis?\n",
    "\n",
    "#### Exploratory data analysis (EDA), also known as Data Exploration is part of the Data Analysis process whereby several techniques are used to better understand the dataset being used.\n",
    "\n",
    "#### Some of this techniques are:\n",
    "* Extrating important variables and ignoring useless variables\n",
    "* Identifying outliers, filling in missing values\n",
    "* Understanding our data, maximizing our insights on a dataset and minimizing potential error that may occur later in the process\n",
    "\n",
    "#### Main components of Exploratory Data Analysis:\n",
    "* Accquire and loading data\n",
    "* Cleaning the dataset\n",
    "* Exploring and Visualizing Data"
   ]
  },
  {
   "cell_type": "markdown",
   "id": "2e04a81c",
   "metadata": {},
   "source": [
    "### Load Python libraries"
   ]
  },
  {
   "cell_type": "code",
   "execution_count": 1,
   "id": "1e96a184",
   "metadata": {},
   "outputs": [],
   "source": [
    "# Basic Libraries\n",
    "import numpy as np\n",
    "import pandas as pd\n",
    "import seaborn as sb\n",
    "import matplotlib.pyplot as plt # we only need pyplot\n",
    "sb.set() # set the default Seaborn style for graphics"
   ]
  },
  {
   "cell_type": "code",
   "execution_count": null,
   "id": "ee50de4e",
   "metadata": {},
   "outputs": [],
   "source": []
  },
  {
   "cell_type": "markdown",
   "id": "b3071581",
   "metadata": {},
   "source": [
    "### Load dataset"
   ]
  },
  {
   "cell_type": "code",
   "execution_count": 2,
   "id": "160e8390",
   "metadata": {},
   "outputs": [
    {
     "data": {
      "text/html": [
       "<div>\n",
       "<style scoped>\n",
       "    .dataframe tbody tr th:only-of-type {\n",
       "        vertical-align: middle;\n",
       "    }\n",
       "\n",
       "    .dataframe tbody tr th {\n",
       "        vertical-align: top;\n",
       "    }\n",
       "\n",
       "    .dataframe thead th {\n",
       "        text-align: right;\n",
       "    }\n",
       "</style>\n",
       "<table border=\"1\" class=\"dataframe\">\n",
       "  <thead>\n",
       "    <tr style=\"text-align: right;\">\n",
       "      <th></th>\n",
       "      <th>id</th>\n",
       "      <th>listing_url</th>\n",
       "      <th>scrape_id</th>\n",
       "      <th>last_scraped</th>\n",
       "      <th>name</th>\n",
       "      <th>description</th>\n",
       "      <th>neighborhood_overview</th>\n",
       "      <th>picture_url</th>\n",
       "      <th>host_id</th>\n",
       "      <th>host_url</th>\n",
       "      <th>...</th>\n",
       "      <th>review_scores_communication</th>\n",
       "      <th>review_scores_location</th>\n",
       "      <th>review_scores_value</th>\n",
       "      <th>license</th>\n",
       "      <th>instant_bookable</th>\n",
       "      <th>calculated_host_listings_count</th>\n",
       "      <th>calculated_host_listings_count_entire_homes</th>\n",
       "      <th>calculated_host_listings_count_private_rooms</th>\n",
       "      <th>calculated_host_listings_count_shared_rooms</th>\n",
       "      <th>reviews_per_month</th>\n",
       "    </tr>\n",
       "  </thead>\n",
       "  <tbody>\n",
       "    <tr>\n",
       "      <th>0</th>\n",
       "      <td>50646</td>\n",
       "      <td>https://www.airbnb.com/rooms/50646</td>\n",
       "      <td>2.020000e+13</td>\n",
       "      <td>27-12-21</td>\n",
       "      <td>Pleasant Room along Bukit Timah</td>\n",
       "      <td>Fully furnished bedroom with a nice view on th...</td>\n",
       "      <td>The serenity &amp; quiet surrounding makes it an i...</td>\n",
       "      <td>https://a0.muscache.com/pictures/36342984/670d...</td>\n",
       "      <td>227796</td>\n",
       "      <td>https://www.airbnb.com/users/show/227796</td>\n",
       "      <td>...</td>\n",
       "      <td>4.94</td>\n",
       "      <td>4.72</td>\n",
       "      <td>4.50</td>\n",
       "      <td>NaN</td>\n",
       "      <td>f</td>\n",
       "      <td>1</td>\n",
       "      <td>0</td>\n",
       "      <td>1</td>\n",
       "      <td>0</td>\n",
       "      <td>0.19</td>\n",
       "    </tr>\n",
       "    <tr>\n",
       "      <th>1</th>\n",
       "      <td>71609</td>\n",
       "      <td>https://www.airbnb.com/rooms/71609</td>\n",
       "      <td>2.020000e+13</td>\n",
       "      <td>27-12-21</td>\n",
       "      <td>Ensuite Room (Room 1 &amp; 2) near EXPO</td>\n",
       "      <td>For 3 rooms.Book room 1&amp;2 and room 4&lt;br /&gt;&lt;br ...</td>\n",
       "      <td>NaN</td>\n",
       "      <td>https://a0.muscache.com/pictures/24453191/3580...</td>\n",
       "      <td>367042</td>\n",
       "      <td>https://www.airbnb.com/users/show/367042</td>\n",
       "      <td>...</td>\n",
       "      <td>4.78</td>\n",
       "      <td>4.26</td>\n",
       "      <td>4.32</td>\n",
       "      <td>NaN</td>\n",
       "      <td>f</td>\n",
       "      <td>5</td>\n",
       "      <td>0</td>\n",
       "      <td>5</td>\n",
       "      <td>0</td>\n",
       "      <td>0.16</td>\n",
       "    </tr>\n",
       "    <tr>\n",
       "      <th>2</th>\n",
       "      <td>71896</td>\n",
       "      <td>https://www.airbnb.com/rooms/71896</td>\n",
       "      <td>2.020000e+13</td>\n",
       "      <td>27-12-21</td>\n",
       "      <td>B&amp;B  Room 1 near Airport &amp; EXPO</td>\n",
       "      <td>&lt;b&gt;The space&lt;/b&gt;&lt;br /&gt;Vocational Stay Deluxe B...</td>\n",
       "      <td>NaN</td>\n",
       "      <td>https://a0.muscache.com/pictures/2440674/ac4f4...</td>\n",
       "      <td>367042</td>\n",
       "      <td>https://www.airbnb.com/users/show/367042</td>\n",
       "      <td>...</td>\n",
       "      <td>4.43</td>\n",
       "      <td>4.17</td>\n",
       "      <td>4.04</td>\n",
       "      <td>NaN</td>\n",
       "      <td>f</td>\n",
       "      <td>5</td>\n",
       "      <td>0</td>\n",
       "      <td>5</td>\n",
       "      <td>0</td>\n",
       "      <td>0.19</td>\n",
       "    </tr>\n",
       "    <tr>\n",
       "      <th>3</th>\n",
       "      <td>71903</td>\n",
       "      <td>https://www.airbnb.com/rooms/71903</td>\n",
       "      <td>2.020000e+13</td>\n",
       "      <td>27-12-21</td>\n",
       "      <td>Room 2-near Airport &amp; EXPO</td>\n",
       "      <td>Like your own home, 24hrs access.&lt;br /&gt;&lt;br /&gt;&lt;...</td>\n",
       "      <td>Quiet and view of the playground with exercise...</td>\n",
       "      <td>https://a0.muscache.com/pictures/568743/7bc623...</td>\n",
       "      <td>367042</td>\n",
       "      <td>https://www.airbnb.com/users/show/367042</td>\n",
       "      <td>...</td>\n",
       "      <td>4.64</td>\n",
       "      <td>4.50</td>\n",
       "      <td>4.36</td>\n",
       "      <td>NaN</td>\n",
       "      <td>f</td>\n",
       "      <td>5</td>\n",
       "      <td>0</td>\n",
       "      <td>5</td>\n",
       "      <td>0</td>\n",
       "      <td>0.36</td>\n",
       "    </tr>\n",
       "    <tr>\n",
       "      <th>4</th>\n",
       "      <td>275343</td>\n",
       "      <td>https://www.airbnb.com/rooms/275343</td>\n",
       "      <td>2.020000e+13</td>\n",
       "      <td>27-12-21</td>\n",
       "      <td>Conveniently located City Room!(1,2,3,4,5,6,7,8)</td>\n",
       "      <td>Awesome location and host &lt;br /&gt;Room near INSE...</td>\n",
       "      <td>NaN</td>\n",
       "      <td>https://a0.muscache.com/pictures/11979330/9bbd...</td>\n",
       "      <td>1439258</td>\n",
       "      <td>https://www.airbnb.com/users/show/1439258</td>\n",
       "      <td>...</td>\n",
       "      <td>4.47</td>\n",
       "      <td>4.53</td>\n",
       "      <td>4.59</td>\n",
       "      <td>S0399</td>\n",
       "      <td>f</td>\n",
       "      <td>16</td>\n",
       "      <td>1</td>\n",
       "      <td>15</td>\n",
       "      <td>0</td>\n",
       "      <td>0.19</td>\n",
       "    </tr>\n",
       "  </tbody>\n",
       "</table>\n",
       "<p>5 rows × 74 columns</p>\n",
       "</div>"
      ],
      "text/plain": [
       "       id                          listing_url     scrape_id last_scraped  \\\n",
       "0   50646   https://www.airbnb.com/rooms/50646  2.020000e+13     27-12-21   \n",
       "1   71609   https://www.airbnb.com/rooms/71609  2.020000e+13     27-12-21   \n",
       "2   71896   https://www.airbnb.com/rooms/71896  2.020000e+13     27-12-21   \n",
       "3   71903   https://www.airbnb.com/rooms/71903  2.020000e+13     27-12-21   \n",
       "4  275343  https://www.airbnb.com/rooms/275343  2.020000e+13     27-12-21   \n",
       "\n",
       "                                               name  \\\n",
       "0                   Pleasant Room along Bukit Timah   \n",
       "1               Ensuite Room (Room 1 & 2) near EXPO   \n",
       "2                   B&B  Room 1 near Airport & EXPO   \n",
       "3                        Room 2-near Airport & EXPO   \n",
       "4  Conveniently located City Room!(1,2,3,4,5,6,7,8)   \n",
       "\n",
       "                                         description  \\\n",
       "0  Fully furnished bedroom with a nice view on th...   \n",
       "1  For 3 rooms.Book room 1&2 and room 4<br /><br ...   \n",
       "2  <b>The space</b><br />Vocational Stay Deluxe B...   \n",
       "3  Like your own home, 24hrs access.<br /><br /><...   \n",
       "4  Awesome location and host <br />Room near INSE...   \n",
       "\n",
       "                               neighborhood_overview  \\\n",
       "0  The serenity & quiet surrounding makes it an i...   \n",
       "1                                                NaN   \n",
       "2                                                NaN   \n",
       "3  Quiet and view of the playground with exercise...   \n",
       "4                                                NaN   \n",
       "\n",
       "                                         picture_url  host_id  \\\n",
       "0  https://a0.muscache.com/pictures/36342984/670d...   227796   \n",
       "1  https://a0.muscache.com/pictures/24453191/3580...   367042   \n",
       "2  https://a0.muscache.com/pictures/2440674/ac4f4...   367042   \n",
       "3  https://a0.muscache.com/pictures/568743/7bc623...   367042   \n",
       "4  https://a0.muscache.com/pictures/11979330/9bbd...  1439258   \n",
       "\n",
       "                                    host_url  ... review_scores_communication  \\\n",
       "0   https://www.airbnb.com/users/show/227796  ...                        4.94   \n",
       "1   https://www.airbnb.com/users/show/367042  ...                        4.78   \n",
       "2   https://www.airbnb.com/users/show/367042  ...                        4.43   \n",
       "3   https://www.airbnb.com/users/show/367042  ...                        4.64   \n",
       "4  https://www.airbnb.com/users/show/1439258  ...                        4.47   \n",
       "\n",
       "  review_scores_location review_scores_value license instant_bookable  \\\n",
       "0                   4.72                4.50     NaN                f   \n",
       "1                   4.26                4.32     NaN                f   \n",
       "2                   4.17                4.04     NaN                f   \n",
       "3                   4.50                4.36     NaN                f   \n",
       "4                   4.53                4.59   S0399                f   \n",
       "\n",
       "  calculated_host_listings_count calculated_host_listings_count_entire_homes  \\\n",
       "0                              1                                           0   \n",
       "1                              5                                           0   \n",
       "2                              5                                           0   \n",
       "3                              5                                           0   \n",
       "4                             16                                           1   \n",
       "\n",
       "  calculated_host_listings_count_private_rooms  \\\n",
       "0                                            1   \n",
       "1                                            5   \n",
       "2                                            5   \n",
       "3                                            5   \n",
       "4                                           15   \n",
       "\n",
       "  calculated_host_listings_count_shared_rooms reviews_per_month  \n",
       "0                                           0              0.19  \n",
       "1                                           0              0.16  \n",
       "2                                           0              0.19  \n",
       "3                                           0              0.36  \n",
       "4                                           0              0.19  \n",
       "\n",
       "[5 rows x 74 columns]"
      ]
     },
     "execution_count": 2,
     "metadata": {},
     "output_type": "execute_result"
    }
   ],
   "source": [
    "# Import the dataset\n",
    "\n",
    "Listing_RawData = pd.read_csv(\"listing_raw.csv\")\n",
    "Listing_df = pd.DataFrame(Listing_RawData)\n",
    "\n",
    "Listing_RawData.head(5)"
   ]
  },
  {
   "cell_type": "markdown",
   "id": "92f72ad0",
   "metadata": {},
   "source": [
    "### Listing the dtype of each column"
   ]
  },
  {
   "cell_type": "code",
   "execution_count": 3,
   "id": "a4b8bee1",
   "metadata": {},
   "outputs": [
    {
     "name": "stdout",
     "output_type": "stream",
     "text": [
      "<class 'pandas.core.frame.DataFrame'>\n",
      "RangeIndex: 3672 entries, 0 to 3671\n",
      "Data columns (total 74 columns):\n",
      " #   Column                                        Non-Null Count  Dtype  \n",
      "---  ------                                        --------------  -----  \n",
      " 0   id                                            3672 non-null   int64  \n",
      " 1   listing_url                                   3672 non-null   object \n",
      " 2   scrape_id                                     3672 non-null   float64\n",
      " 3   last_scraped                                  3672 non-null   object \n",
      " 4   name                                          3672 non-null   object \n",
      " 5   description                                   3555 non-null   object \n",
      " 6   neighborhood_overview                         2373 non-null   object \n",
      " 7   picture_url                                   3672 non-null   object \n",
      " 8   host_id                                       3672 non-null   int64  \n",
      " 9   host_url                                      3672 non-null   object \n",
      " 10  host_name                                     3661 non-null   object \n",
      " 11  host_since                                    3661 non-null   object \n",
      " 12  host_location                                 3661 non-null   object \n",
      " 13  host_about                                    2450 non-null   object \n",
      " 14  host_response_time                            3218 non-null   object \n",
      " 15  host_response_rate                            3218 non-null   object \n",
      " 16  host_acceptance_rate                          2944 non-null   object \n",
      " 17  host_is_superhost                             3661 non-null   object \n",
      " 18  host_thumbnail_url                            3661 non-null   object \n",
      " 19  host_picture_url                              3661 non-null   object \n",
      " 20  host_neighbourhood                            3349 non-null   object \n",
      " 21  host_listings_count                           3661 non-null   float64\n",
      " 22  host_total_listings_count                     3661 non-null   float64\n",
      " 23  host_verifications                            3672 non-null   object \n",
      " 24  host_has_profile_pic                          3661 non-null   object \n",
      " 25  host_identity_verified                        3661 non-null   object \n",
      " 26  neighbourhood                                 2373 non-null   object \n",
      " 27  neighbourhood_cleansed                        3672 non-null   object \n",
      " 28  neighbourhood_group_cleansed                  3672 non-null   object \n",
      " 29  latitude                                      3672 non-null   float64\n",
      " 30  longitude                                     3672 non-null   float64\n",
      " 31  property_type                                 3672 non-null   object \n",
      " 32  room_type                                     3672 non-null   object \n",
      " 33  accommodates                                  3672 non-null   int64  \n",
      " 34  bathrooms                                     0 non-null      float64\n",
      " 35  bathrooms_text                                3643 non-null   object \n",
      " 36  bedrooms                                      3255 non-null   float64\n",
      " 37  beds                                          3542 non-null   float64\n",
      " 38  amenities                                     3672 non-null   object \n",
      " 39  price                                         3672 non-null   object \n",
      " 40  minimum_nights                                3672 non-null   int64  \n",
      " 41  maximum_nights                                3672 non-null   int64  \n",
      " 42  minimum_minimum_nights                        3671 non-null   float64\n",
      " 43  maximum_minimum_nights                        3671 non-null   float64\n",
      " 44  minimum_maximum_nights                        3671 non-null   float64\n",
      " 45  maximum_maximum_nights                        3671 non-null   float64\n",
      " 46  minimum_nights_avg_ntm                        3671 non-null   float64\n",
      " 47  maximum_nights_avg_ntm                        3671 non-null   float64\n",
      " 48  calendar_updated                              0 non-null      float64\n",
      " 49  has_availability                              3672 non-null   object \n",
      " 50  availability_30                               3672 non-null   int64  \n",
      " 51  availability_60                               3672 non-null   int64  \n",
      " 52  availability_90                               3672 non-null   int64  \n",
      " 53  availability_365                              3672 non-null   int64  \n",
      " 54  calendar_last_scraped                         3672 non-null   object \n",
      " 55  number_of_reviews                             3672 non-null   int64  \n",
      " 56  number_of_reviews_ltm                         3672 non-null   int64  \n",
      " 57  number_of_reviews_l30d                        3672 non-null   int64  \n",
      " 58  first_review                                  2044 non-null   object \n",
      " 59  last_review                                   2044 non-null   object \n",
      " 60  review_scores_rating                          2044 non-null   float64\n",
      " 61  review_scores_accuracy                        1988 non-null   float64\n",
      " 62  review_scores_cleanliness                     1989 non-null   float64\n",
      " 63  review_scores_checkin                         1988 non-null   float64\n",
      " 64  review_scores_communication                   1989 non-null   float64\n",
      " 65  review_scores_location                        1988 non-null   float64\n",
      " 66  review_scores_value                           1988 non-null   float64\n",
      " 67  license                                       653 non-null    object \n",
      " 68  instant_bookable                              3672 non-null   object \n",
      " 69  calculated_host_listings_count                3672 non-null   int64  \n",
      " 70  calculated_host_listings_count_entire_homes   3672 non-null   int64  \n",
      " 71  calculated_host_listings_count_private_rooms  3672 non-null   int64  \n",
      " 72  calculated_host_listings_count_shared_rooms   3672 non-null   int64  \n",
      " 73  reviews_per_month                             2044 non-null   float64\n",
      "dtypes: float64(23), int64(16), object(35)\n",
      "memory usage: 2.1+ MB\n"
     ]
    }
   ],
   "source": [
    "# For column reference: https://docs.google.com/spreadsheets/d/1iWCNJcSutYqpULSQHlNyGInUvHg2BoUGoNRIGa6Szc4/edit#gid=982310896\n",
    "\n",
    "Listing_RawData.info()"
   ]
  },
  {
   "cell_type": "markdown",
   "id": "0cf448bf",
   "metadata": {},
   "source": [
    "Let's list down all our observations from the super-quick glance of the dataset, as above.\n",
    "\n",
    "* There are `73` variables/features/columns and `3672` observations/samples/rows in the dataset.\n",
    "\n",
    "* The response variable is `price`"
   ]
  },
  {
   "cell_type": "markdown",
   "id": "3c4ae9f6",
   "metadata": {},
   "source": [
    "Possible Predictors to consider:\n",
    "* `host_acceptance_rate` & `host_is_superhost`\n",
    "* `neighbourhood_cleansed` & `neighbourhood_group_cleansed`\n",
    "* `latitude` & `longitude`\n",
    "*  `room_type`\n",
    "* `bedrooms` & `beds`\n",
    "* `number_of_reviews`\n",
    "* `availability_365`\n",
    "\n",
    "Predictor definition: https://docs.google.com/spreadsheets/d/1iWCNJcSutYqpULSQHlNyGInUvHg2BoUGoNRIGa6Szc4/edit#gid=982310896"
   ]
  },
  {
   "cell_type": "code",
   "execution_count": null,
   "id": "8d9bf609",
   "metadata": {},
   "outputs": [],
   "source": []
  },
  {
   "cell_type": "markdown",
   "id": "6b951dcc",
   "metadata": {},
   "source": [
    "### Displaying the columns `host_acceptance_rate` & `number_of_reviews`"
   ]
  },
  {
   "cell_type": "code",
   "execution_count": 4,
   "id": "81ca7947",
   "metadata": {},
   "outputs": [
    {
     "data": {
      "text/plain": [
       "<bound method NDFrame.describe of      host_acceptance_rate  number_of_reviews\n",
       "0                     NaN                 18\n",
       "1                     NaN                 20\n",
       "2                     NaN                 24\n",
       "3                     NaN                 47\n",
       "4                     77%                 20\n",
       "...                   ...                ...\n",
       "3667                 100%                  0\n",
       "3668                 100%                  0\n",
       "3669                  NaN                  0\n",
       "3670                  30%                  0\n",
       "3671                  67%                  0\n",
       "\n",
       "[3672 rows x 2 columns]>"
      ]
     },
     "execution_count": 4,
     "metadata": {},
     "output_type": "execute_result"
    }
   ],
   "source": [
    "Listing_df[['host_acceptance_rate', 'number_of_reviews']].describe"
   ]
  },
  {
   "cell_type": "code",
   "execution_count": 5,
   "id": "8d273728",
   "metadata": {},
   "outputs": [],
   "source": [
    "#replace host_acceptance_rate NaN values with 0 for records with 0 reviews :D\n",
    "\n",
    "Listing_df['new_host_acceptance_rate'] = Listing_df['host_acceptance_rate']\n",
    "Listing_df['check_for_nan'] = Listing_df['host_acceptance_rate'].isnull()\n",
    "Listing_df['check_for_nan'] = Listing_df['check_for_nan'].replace({True: 111, False: 222})\n",
    "\n",
    "\n",
    "\n",
    "new_df = Listing_df.loc[Listing_df['check_for_nan']==111]\n",
    "new_df =  new_df.loc[Listing_df['number_of_reviews'] == 0]\n",
    "new_df['new_host_acceptance_rate'] = new_df['new_host_acceptance_rate'].fillna(0)\n",
    "\n",
    "\n",
    "##update_dataframe\n",
    "Listing_df.update(new_df)         "
   ]
  },
  {
   "cell_type": "markdown",
   "id": "74bbbd1a",
   "metadata": {},
   "source": [
    "#### Setting `new_host_acceptance_rate` to 0 if and only if `number_of_reviews` are 0"
   ]
  },
  {
   "cell_type": "code",
   "execution_count": 6,
   "id": "3b3c3399",
   "metadata": {},
   "outputs": [
    {
     "data": {
      "text/plain": [
       "<bound method NDFrame.describe of      new_host_acceptance_rate  number_of_reviews\n",
       "0                         NaN               18.0\n",
       "1                         NaN               20.0\n",
       "2                         NaN               24.0\n",
       "3                         NaN               47.0\n",
       "4                         77%               20.0\n",
       "...                       ...                ...\n",
       "3667                     100%                0.0\n",
       "3668                     100%                0.0\n",
       "3669                      0.0                0.0\n",
       "3670                      30%                0.0\n",
       "3671                      67%                0.0\n",
       "\n",
       "[3672 rows x 2 columns]>"
      ]
     },
     "execution_count": 6,
     "metadata": {},
     "output_type": "execute_result"
    }
   ],
   "source": [
    "Listing_df[['new_host_acceptance_rate', 'number_of_reviews']].describe"
   ]
  },
  {
   "cell_type": "code",
   "execution_count": 7,
   "id": "709da6ae",
   "metadata": {},
   "outputs": [],
   "source": [
    "#Remove host_acceptance_rate %\n",
    "Listing_df['new_host_acceptance_rate'].replace(\"%\", \"\", inplace=True, regex=True)"
   ]
  },
  {
   "cell_type": "code",
   "execution_count": 8,
   "id": "e5561b15",
   "metadata": {},
   "outputs": [
    {
     "data": {
      "text/plain": [
       "count    3335.000000\n",
       "mean       55.313943\n",
       "std        38.673236\n",
       "min         0.000000\n",
       "25%        20.000000\n",
       "50%        65.000000\n",
       "75%        93.000000\n",
       "max       100.000000\n",
       "Name: new_host_acceptance_rate, dtype: float64"
      ]
     },
     "execution_count": 8,
     "metadata": {},
     "output_type": "execute_result"
    }
   ],
   "source": [
    "#Convert new_host_acceptance_rate dtype from object to float\n",
    "#describe new_host_acceptance_rate\n",
    "\n",
    "Listing_df['new_host_acceptance_rate'] = pd.to_numeric(Listing_df['new_host_acceptance_rate'])\n",
    "\n",
    "Listing_df['new_host_acceptance_rate'].describe()"
   ]
  },
  {
   "cell_type": "code",
   "execution_count": 9,
   "id": "bc4c0b57",
   "metadata": {},
   "outputs": [],
   "source": [
    "#obtain mean from new_host_acceptance_rate\n",
    "median_host_acceptance_rate = Listing_df['new_host_acceptance_rate'].median()"
   ]
  },
  {
   "cell_type": "code",
   "execution_count": 10,
   "id": "ed6f2f4d",
   "metadata": {},
   "outputs": [],
   "source": [
    "#replace new_host_acceptance_rate NaN with mean\n",
    "Listing_df['new_host_acceptance_rate'].replace(np.nan, median_host_acceptance_rate, inplace=True, regex=True)"
   ]
  },
  {
   "cell_type": "code",
   "execution_count": 11,
   "id": "0c558aef",
   "metadata": {},
   "outputs": [
    {
     "data": {
      "text/plain": [
       "count    3672.000000\n",
       "mean       56.202887\n",
       "std        36.961368\n",
       "min         0.000000\n",
       "25%        30.000000\n",
       "50%        65.000000\n",
       "75%        91.000000\n",
       "max       100.000000\n",
       "Name: new_host_acceptance_rate, dtype: float64"
      ]
     },
     "execution_count": 11,
     "metadata": {},
     "output_type": "execute_result"
    }
   ],
   "source": [
    "#after replacing NaN with mean\n",
    "Listing_df['new_host_acceptance_rate'].describe()"
   ]
  },
  {
   "cell_type": "code",
   "execution_count": null,
   "id": "7840d4ea",
   "metadata": {},
   "outputs": [],
   "source": []
  },
  {
   "cell_type": "markdown",
   "id": "b5fbd5a6",
   "metadata": {},
   "source": [
    "### Replacing NULL with relevant values. Removing unrequired characters."
   ]
  },
  {
   "cell_type": "code",
   "execution_count": 12,
   "id": "d1dec611",
   "metadata": {},
   "outputs": [],
   "source": [
    "#Replace reviews_per_month NaN with 0\n",
    "Listing_df['reviews_per_month'].replace(np.nan, 0, inplace=True, regex=True)"
   ]
  },
  {
   "cell_type": "code",
   "execution_count": 13,
   "id": "043805fe",
   "metadata": {},
   "outputs": [],
   "source": [
    "#replace host_is_superhost NaN with f\n",
    "Listing_df['host_is_superhost'].replace(np.nan, 'f', inplace=True, regex=True)"
   ]
  },
  {
   "cell_type": "code",
   "execution_count": 14,
   "id": "5f9988c1",
   "metadata": {},
   "outputs": [],
   "source": [
    "#Replace bedroom NaN with 0\n",
    "Listing_df['bedrooms'].replace(np.nan, 0, inplace=True, regex=True)"
   ]
  },
  {
   "cell_type": "code",
   "execution_count": 15,
   "id": "7aa3a16c",
   "metadata": {},
   "outputs": [],
   "source": [
    "#Replace beds NaN with 0\n",
    "Listing_df['beds'].replace(np.nan, 0, inplace=True, regex=True)"
   ]
  },
  {
   "cell_type": "code",
   "execution_count": 16,
   "id": "ce339c7e",
   "metadata": {},
   "outputs": [],
   "source": [
    "#Remove price $ \n",
    "Listing_df['price'].replace(\"\\$|\\$\", \"\", inplace=True, regex=True)\n",
    "\n",
    "Listing_df['price'].replace(\",\", \"\", inplace=True, regex=True)"
   ]
  },
  {
   "cell_type": "code",
   "execution_count": 17,
   "id": "7ea01304",
   "metadata": {},
   "outputs": [
    {
     "data": {
      "text/plain": [
       "count    3671.000000\n",
       "mean      206.755652\n",
       "std       370.691181\n",
       "min         0.000000\n",
       "25%        70.000000\n",
       "50%       135.000000\n",
       "75%       220.000000\n",
       "max      8900.000000\n",
       "Name: price, dtype: float64"
      ]
     },
     "execution_count": 17,
     "metadata": {},
     "output_type": "execute_result"
    }
   ],
   "source": [
    "#Convert price dtype from object to float\n",
    "#describe price\n",
    "\n",
    "Listing_df['price'] = pd.to_numeric(Listing_df['price'])\n",
    "\n",
    "#Row 983 to be dropped - pricing is $10,286.00 [outlier]\n",
    "#Row 743 to be dropped - pricing is $8900.00 [outlier] (NEED TO CHECK)\n",
    "Listing_df = Listing_df[Listing_df.price < 10000]\n",
    "\n",
    "Listing_df['price'].describe()"
   ]
  },
  {
   "cell_type": "code",
   "execution_count": 18,
   "id": "db7b4e53",
   "metadata": {},
   "outputs": [
    {
     "data": {
      "text/html": [
       "<div>\n",
       "<style scoped>\n",
       "    .dataframe tbody tr th:only-of-type {\n",
       "        vertical-align: middle;\n",
       "    }\n",
       "\n",
       "    .dataframe tbody tr th {\n",
       "        vertical-align: top;\n",
       "    }\n",
       "\n",
       "    .dataframe thead th {\n",
       "        text-align: right;\n",
       "    }\n",
       "</style>\n",
       "<table border=\"1\" class=\"dataframe\">\n",
       "  <thead>\n",
       "    <tr style=\"text-align: right;\">\n",
       "      <th></th>\n",
       "      <th>new_host_acceptance_rate</th>\n",
       "      <th>host_is_superhost</th>\n",
       "      <th>bedrooms</th>\n",
       "      <th>beds</th>\n",
       "      <th>price</th>\n",
       "    </tr>\n",
       "  </thead>\n",
       "  <tbody>\n",
       "    <tr>\n",
       "      <th>0</th>\n",
       "      <td>65.0</td>\n",
       "      <td>f</td>\n",
       "      <td>1.0</td>\n",
       "      <td>1.0</td>\n",
       "      <td>80.0</td>\n",
       "    </tr>\n",
       "    <tr>\n",
       "      <th>1</th>\n",
       "      <td>65.0</td>\n",
       "      <td>f</td>\n",
       "      <td>2.0</td>\n",
       "      <td>3.0</td>\n",
       "      <td>179.0</td>\n",
       "    </tr>\n",
       "    <tr>\n",
       "      <th>2</th>\n",
       "      <td>65.0</td>\n",
       "      <td>f</td>\n",
       "      <td>1.0</td>\n",
       "      <td>1.0</td>\n",
       "      <td>82.0</td>\n",
       "    </tr>\n",
       "    <tr>\n",
       "      <th>3</th>\n",
       "      <td>65.0</td>\n",
       "      <td>f</td>\n",
       "      <td>1.0</td>\n",
       "      <td>2.0</td>\n",
       "      <td>82.0</td>\n",
       "    </tr>\n",
       "    <tr>\n",
       "      <th>4</th>\n",
       "      <td>77.0</td>\n",
       "      <td>f</td>\n",
       "      <td>1.0</td>\n",
       "      <td>1.0</td>\n",
       "      <td>52.0</td>\n",
       "    </tr>\n",
       "    <tr>\n",
       "      <th>...</th>\n",
       "      <td>...</td>\n",
       "      <td>...</td>\n",
       "      <td>...</td>\n",
       "      <td>...</td>\n",
       "      <td>...</td>\n",
       "    </tr>\n",
       "    <tr>\n",
       "      <th>3667</th>\n",
       "      <td>100.0</td>\n",
       "      <td>f</td>\n",
       "      <td>1.0</td>\n",
       "      <td>2.0</td>\n",
       "      <td>185.0</td>\n",
       "    </tr>\n",
       "    <tr>\n",
       "      <th>3668</th>\n",
       "      <td>100.0</td>\n",
       "      <td>f</td>\n",
       "      <td>1.0</td>\n",
       "      <td>2.0</td>\n",
       "      <td>215.0</td>\n",
       "    </tr>\n",
       "    <tr>\n",
       "      <th>3669</th>\n",
       "      <td>0.0</td>\n",
       "      <td>f</td>\n",
       "      <td>1.0</td>\n",
       "      <td>1.0</td>\n",
       "      <td>48.0</td>\n",
       "    </tr>\n",
       "    <tr>\n",
       "      <th>3670</th>\n",
       "      <td>30.0</td>\n",
       "      <td>f</td>\n",
       "      <td>2.0</td>\n",
       "      <td>3.0</td>\n",
       "      <td>529.0</td>\n",
       "    </tr>\n",
       "    <tr>\n",
       "      <th>3671</th>\n",
       "      <td>67.0</td>\n",
       "      <td>f</td>\n",
       "      <td>1.0</td>\n",
       "      <td>1.0</td>\n",
       "      <td>224.0</td>\n",
       "    </tr>\n",
       "  </tbody>\n",
       "</table>\n",
       "<p>3671 rows × 5 columns</p>\n",
       "</div>"
      ],
      "text/plain": [
       "      new_host_acceptance_rate host_is_superhost  bedrooms  beds  price\n",
       "0                         65.0                 f       1.0   1.0   80.0\n",
       "1                         65.0                 f       2.0   3.0  179.0\n",
       "2                         65.0                 f       1.0   1.0   82.0\n",
       "3                         65.0                 f       1.0   2.0   82.0\n",
       "4                         77.0                 f       1.0   1.0   52.0\n",
       "...                        ...               ...       ...   ...    ...\n",
       "3667                     100.0                 f       1.0   2.0  185.0\n",
       "3668                     100.0                 f       1.0   2.0  215.0\n",
       "3669                       0.0                 f       1.0   1.0   48.0\n",
       "3670                      30.0                 f       2.0   3.0  529.0\n",
       "3671                      67.0                 f       1.0   1.0  224.0\n",
       "\n",
       "[3671 rows x 5 columns]"
      ]
     },
     "execution_count": 18,
     "metadata": {},
     "output_type": "execute_result"
    }
   ],
   "source": [
    "Listing_df[['new_host_acceptance_rate', 'host_is_superhost', 'bedrooms', 'beds', 'price']]"
   ]
  },
  {
   "cell_type": "code",
   "execution_count": null,
   "id": "39c99c87",
   "metadata": {},
   "outputs": [],
   "source": []
  },
  {
   "cell_type": "markdown",
   "id": "09ff057e",
   "metadata": {},
   "source": [
    "### Exporting the dataframe into a new csv"
   ]
  },
  {
   "cell_type": "code",
   "execution_count": 19,
   "id": "338eb581",
   "metadata": {
    "scrolled": true
   },
   "outputs": [
    {
     "name": "stdout",
     "output_type": "stream",
     "text": [
      "              id  new_host_acceptance_rate host_is_superhost  \\\n",
      "0        50646.0                      65.0                 f   \n",
      "1        71609.0                      65.0                 f   \n",
      "2        71896.0                      65.0                 f   \n",
      "3        71903.0                      65.0                 f   \n",
      "4       275343.0                      77.0                 f   \n",
      "...          ...                       ...               ...   \n",
      "3667  53905492.0                     100.0                 f   \n",
      "3668  53905653.0                     100.0                 f   \n",
      "3669  53910005.0                       0.0                 f   \n",
      "3670  53910434.0                      30.0                 f   \n",
      "3671  53927825.0                      67.0                 f   \n",
      "\n",
      "     neighbourhood_cleansed neighbourhood_group_cleansed  latitude  \\\n",
      "0               Bukit Timah               Central Region  1.334320   \n",
      "1                  Tampines                  East Region  1.345370   \n",
      "2                  Tampines                  East Region  1.347540   \n",
      "3                  Tampines                  East Region  1.345310   \n",
      "4               Bukit Merah               Central Region  1.290150   \n",
      "...                     ...                          ...       ...   \n",
      "3667            Bukit Merah               Central Region  1.286680   \n",
      "3668            Bukit Merah               Central Region  1.285092   \n",
      "3669          Marine Parade               Central Region  1.302760   \n",
      "3670                Kallang               Central Region  1.300063   \n",
      "3671                  Bedok                  East Region  1.316472   \n",
      "\n",
      "       longitude        room_type  bedrooms  beds  number_of_reviews  \\\n",
      "0     103.785210     Private room       1.0   1.0               18.0   \n",
      "1     103.958870     Private room       2.0   3.0               20.0   \n",
      "2     103.959580     Private room       1.0   1.0               24.0   \n",
      "3     103.961000     Private room       1.0   2.0               47.0   \n",
      "4     103.808140     Private room       1.0   1.0               20.0   \n",
      "...          ...              ...       ...   ...                ...   \n",
      "3667  103.834440     Private room       1.0   2.0                0.0   \n",
      "3668  103.833326     Private room       1.0   2.0                0.0   \n",
      "3669  103.901580     Private room       1.0   1.0                0.0   \n",
      "3670  103.859894  Entire home/apt       2.0   3.0                0.0   \n",
      "3671  103.935271     Private room       1.0   1.0                0.0   \n",
      "\n",
      "      availability_365  price  \n",
      "0                365.0   80.0  \n",
      "1                365.0  179.0  \n",
      "2                365.0   82.0  \n",
      "3                365.0   82.0  \n",
      "4                341.0   52.0  \n",
      "...                ...    ...  \n",
      "3667             358.0  185.0  \n",
      "3668             361.0  215.0  \n",
      "3669             365.0   48.0  \n",
      "3670             363.0  529.0  \n",
      "3671             365.0  224.0  \n",
      "\n",
      "[3671 rows x 13 columns]\n"
     ]
    }
   ],
   "source": [
    "#Export columns to new csv for easier analization \n",
    "\n",
    "# 1) Check drive location\n",
    "import os\n",
    "cwd = os.getcwd()\n",
    "saved_file = cwd + \"\\PredictPrice.csv\"\n",
    "\n",
    "# 2) New dataframe for export\n",
    "export_df = Listing_df[['id', 'new_host_acceptance_rate', 'host_is_superhost', 'neighbourhood_cleansed', 'neighbourhood_group_cleansed', 'latitude', 'longitude', 'room_type', 'bedrooms', 'beds', 'number_of_reviews', 'availability_365','price']]\n",
    "export_df.to_csv(saved_file, index = False, header=True)\n",
    "\n",
    "print(export_df)"
   ]
  },
  {
   "cell_type": "code",
   "execution_count": null,
   "id": "798d9644",
   "metadata": {},
   "outputs": [],
   "source": []
  }
 ],
 "metadata": {
  "kernelspec": {
   "display_name": "Python 3 (ipykernel)",
   "language": "python",
   "name": "python3"
  },
  "language_info": {
   "codemirror_mode": {
    "name": "ipython",
    "version": 3
   },
   "file_extension": ".py",
   "mimetype": "text/x-python",
   "name": "python",
   "nbconvert_exporter": "python",
   "pygments_lexer": "ipython3",
   "version": "3.9.7"
  }
 },
 "nbformat": 4,
 "nbformat_minor": 5
}
